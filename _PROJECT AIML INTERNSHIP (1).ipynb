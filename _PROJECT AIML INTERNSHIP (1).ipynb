{
 "cells": [
  {
   "cell_type": "code",
   "execution_count": 1,
   "id": "6c199b98",
   "metadata": {},
   "outputs": [],
   "source": [
    "# Importing the libraries \n",
    "\n",
    "import pandas as pd\n",
    "import numpy as np \n",
    "import matplotlib.pyplot as plt \n",
    "import seaborn as sns\n",
    "%matplotlib inline\n",
    "\n",
    "# Ignore harmless warnings \n",
    "\n",
    "import warnings \n",
    "warnings.filterwarnings(\"ignore\")\n",
    "\n",
    "# Set to display all the columns in dataset\n",
    "\n",
    "pd.set_option(\"display.max_columns\", None)\n",
    "\n",
    "# Import psql to run queries \n",
    "\n",
    "import pandasql as psql"
   ]
  },
  {
   "cell_type": "code",
   "execution_count": 2,
   "id": "9034ef1e",
   "metadata": {},
   "outputs": [
    {
     "data": {
      "text/html": [
       "<div>\n",
       "<style scoped>\n",
       "    .dataframe tbody tr th:only-of-type {\n",
       "        vertical-align: middle;\n",
       "    }\n",
       "\n",
       "    .dataframe tbody tr th {\n",
       "        vertical-align: top;\n",
       "    }\n",
       "\n",
       "    .dataframe thead th {\n",
       "        text-align: right;\n",
       "    }\n",
       "</style>\n",
       "<table border=\"1\" class=\"dataframe\">\n",
       "  <thead>\n",
       "    <tr style=\"text-align: right;\">\n",
       "      <th></th>\n",
       "      <th>Unnamed: 0</th>\n",
       "      <th>id</th>\n",
       "      <th>Gender</th>\n",
       "      <th>Customer Type</th>\n",
       "      <th>Age</th>\n",
       "      <th>Type of Travel</th>\n",
       "      <th>Class</th>\n",
       "      <th>Flight Distance</th>\n",
       "      <th>Inflight wifi service</th>\n",
       "      <th>Departure/Arrival time convenient</th>\n",
       "      <th>Ease of Online booking</th>\n",
       "      <th>Gate location</th>\n",
       "      <th>Food and drink</th>\n",
       "      <th>Online boarding</th>\n",
       "      <th>Seat comfort</th>\n",
       "      <th>Inflight entertainment</th>\n",
       "      <th>On-board service</th>\n",
       "      <th>Leg room service</th>\n",
       "      <th>Baggage handling</th>\n",
       "      <th>Checkin service</th>\n",
       "      <th>Inflight service</th>\n",
       "      <th>Cleanliness</th>\n",
       "      <th>Departure Delay in Minutes</th>\n",
       "      <th>Arrival Delay in Minutes</th>\n",
       "      <th>satisfaction</th>\n",
       "    </tr>\n",
       "  </thead>\n",
       "  <tbody>\n",
       "    <tr>\n",
       "      <th>0</th>\n",
       "      <td>0</td>\n",
       "      <td>70172</td>\n",
       "      <td>Male</td>\n",
       "      <td>Loyal Customer</td>\n",
       "      <td>13</td>\n",
       "      <td>Personal Travel</td>\n",
       "      <td>Eco Plus</td>\n",
       "      <td>460</td>\n",
       "      <td>3</td>\n",
       "      <td>4</td>\n",
       "      <td>3</td>\n",
       "      <td>1</td>\n",
       "      <td>5</td>\n",
       "      <td>3</td>\n",
       "      <td>5</td>\n",
       "      <td>5</td>\n",
       "      <td>4</td>\n",
       "      <td>3</td>\n",
       "      <td>4</td>\n",
       "      <td>4</td>\n",
       "      <td>5</td>\n",
       "      <td>5</td>\n",
       "      <td>25</td>\n",
       "      <td>18.0</td>\n",
       "      <td>neutral or dissatisfied</td>\n",
       "    </tr>\n",
       "    <tr>\n",
       "      <th>1</th>\n",
       "      <td>1</td>\n",
       "      <td>5047</td>\n",
       "      <td>Male</td>\n",
       "      <td>disloyal Customer</td>\n",
       "      <td>25</td>\n",
       "      <td>Business travel</td>\n",
       "      <td>Business</td>\n",
       "      <td>235</td>\n",
       "      <td>3</td>\n",
       "      <td>2</td>\n",
       "      <td>3</td>\n",
       "      <td>3</td>\n",
       "      <td>1</td>\n",
       "      <td>3</td>\n",
       "      <td>1</td>\n",
       "      <td>1</td>\n",
       "      <td>1</td>\n",
       "      <td>5</td>\n",
       "      <td>3</td>\n",
       "      <td>1</td>\n",
       "      <td>4</td>\n",
       "      <td>1</td>\n",
       "      <td>1</td>\n",
       "      <td>6.0</td>\n",
       "      <td>neutral or dissatisfied</td>\n",
       "    </tr>\n",
       "    <tr>\n",
       "      <th>2</th>\n",
       "      <td>2</td>\n",
       "      <td>110028</td>\n",
       "      <td>Female</td>\n",
       "      <td>Loyal Customer</td>\n",
       "      <td>26</td>\n",
       "      <td>Business travel</td>\n",
       "      <td>Business</td>\n",
       "      <td>1142</td>\n",
       "      <td>2</td>\n",
       "      <td>2</td>\n",
       "      <td>2</td>\n",
       "      <td>2</td>\n",
       "      <td>5</td>\n",
       "      <td>5</td>\n",
       "      <td>5</td>\n",
       "      <td>5</td>\n",
       "      <td>4</td>\n",
       "      <td>3</td>\n",
       "      <td>4</td>\n",
       "      <td>4</td>\n",
       "      <td>4</td>\n",
       "      <td>5</td>\n",
       "      <td>0</td>\n",
       "      <td>0.0</td>\n",
       "      <td>satisfied</td>\n",
       "    </tr>\n",
       "    <tr>\n",
       "      <th>3</th>\n",
       "      <td>3</td>\n",
       "      <td>24026</td>\n",
       "      <td>Female</td>\n",
       "      <td>Loyal Customer</td>\n",
       "      <td>25</td>\n",
       "      <td>Business travel</td>\n",
       "      <td>Business</td>\n",
       "      <td>562</td>\n",
       "      <td>2</td>\n",
       "      <td>5</td>\n",
       "      <td>5</td>\n",
       "      <td>5</td>\n",
       "      <td>2</td>\n",
       "      <td>2</td>\n",
       "      <td>2</td>\n",
       "      <td>2</td>\n",
       "      <td>2</td>\n",
       "      <td>5</td>\n",
       "      <td>3</td>\n",
       "      <td>1</td>\n",
       "      <td>4</td>\n",
       "      <td>2</td>\n",
       "      <td>11</td>\n",
       "      <td>9.0</td>\n",
       "      <td>neutral or dissatisfied</td>\n",
       "    </tr>\n",
       "    <tr>\n",
       "      <th>4</th>\n",
       "      <td>4</td>\n",
       "      <td>119299</td>\n",
       "      <td>Male</td>\n",
       "      <td>Loyal Customer</td>\n",
       "      <td>61</td>\n",
       "      <td>Business travel</td>\n",
       "      <td>Business</td>\n",
       "      <td>214</td>\n",
       "      <td>3</td>\n",
       "      <td>3</td>\n",
       "      <td>3</td>\n",
       "      <td>3</td>\n",
       "      <td>4</td>\n",
       "      <td>5</td>\n",
       "      <td>5</td>\n",
       "      <td>3</td>\n",
       "      <td>3</td>\n",
       "      <td>4</td>\n",
       "      <td>4</td>\n",
       "      <td>3</td>\n",
       "      <td>3</td>\n",
       "      <td>3</td>\n",
       "      <td>0</td>\n",
       "      <td>0.0</td>\n",
       "      <td>satisfied</td>\n",
       "    </tr>\n",
       "  </tbody>\n",
       "</table>\n",
       "</div>"
      ],
      "text/plain": [
       "   Unnamed: 0      id  Gender      Customer Type  Age   Type of Travel  \\\n",
       "0           0   70172    Male     Loyal Customer   13  Personal Travel   \n",
       "1           1    5047    Male  disloyal Customer   25  Business travel   \n",
       "2           2  110028  Female     Loyal Customer   26  Business travel   \n",
       "3           3   24026  Female     Loyal Customer   25  Business travel   \n",
       "4           4  119299    Male     Loyal Customer   61  Business travel   \n",
       "\n",
       "      Class  Flight Distance  Inflight wifi service  \\\n",
       "0  Eco Plus              460                      3   \n",
       "1  Business              235                      3   \n",
       "2  Business             1142                      2   \n",
       "3  Business              562                      2   \n",
       "4  Business              214                      3   \n",
       "\n",
       "   Departure/Arrival time convenient  Ease of Online booking  Gate location  \\\n",
       "0                                  4                       3              1   \n",
       "1                                  2                       3              3   \n",
       "2                                  2                       2              2   \n",
       "3                                  5                       5              5   \n",
       "4                                  3                       3              3   \n",
       "\n",
       "   Food and drink  Online boarding  Seat comfort  Inflight entertainment  \\\n",
       "0               5                3             5                       5   \n",
       "1               1                3             1                       1   \n",
       "2               5                5             5                       5   \n",
       "3               2                2             2                       2   \n",
       "4               4                5             5                       3   \n",
       "\n",
       "   On-board service  Leg room service  Baggage handling  Checkin service  \\\n",
       "0                 4                 3                 4                4   \n",
       "1                 1                 5                 3                1   \n",
       "2                 4                 3                 4                4   \n",
       "3                 2                 5                 3                1   \n",
       "4                 3                 4                 4                3   \n",
       "\n",
       "   Inflight service  Cleanliness  Departure Delay in Minutes  \\\n",
       "0                 5            5                          25   \n",
       "1                 4            1                           1   \n",
       "2                 4            5                           0   \n",
       "3                 4            2                          11   \n",
       "4                 3            3                           0   \n",
       "\n",
       "   Arrival Delay in Minutes             satisfaction  \n",
       "0                      18.0  neutral or dissatisfied  \n",
       "1                       6.0  neutral or dissatisfied  \n",
       "2                       0.0                satisfied  \n",
       "3                       9.0  neutral or dissatisfied  \n",
       "4                       0.0                satisfied  "
      ]
     },
     "execution_count": 2,
     "metadata": {},
     "output_type": "execute_result"
    }
   ],
   "source": [
    "#load the train data\n",
    "data = pd.read_csv(r\"C:\\Users\\mouni\\OneDrive\\Desktop\\aiml\\train.csv\",header=0)\n",
    "\n",
    "# Copy the file to back-up\n",
    "\n",
    "data_bk = data.copy()\n",
    "\n",
    "# Display first 5 records\n",
    "\n",
    "data.head()"
   ]
  },
  {
   "cell_type": "code",
   "execution_count": 3,
   "id": "b395e434",
   "metadata": {},
   "outputs": [
    {
     "data": {
      "text/plain": [
       "(103904, 25)"
      ]
     },
     "execution_count": 3,
     "metadata": {},
     "output_type": "execute_result"
    }
   ],
   "source": [
    "data.shape"
   ]
  },
  {
   "cell_type": "code",
   "execution_count": 4,
   "id": "3e49ec66",
   "metadata": {},
   "outputs": [
    {
     "name": "stdout",
     "output_type": "stream",
     "text": [
      "<class 'pandas.core.frame.DataFrame'>\n",
      "RangeIndex: 103904 entries, 0 to 103903\n",
      "Data columns (total 25 columns):\n",
      " #   Column                             Non-Null Count   Dtype  \n",
      "---  ------                             --------------   -----  \n",
      " 0   Unnamed: 0                         103904 non-null  int64  \n",
      " 1   id                                 103904 non-null  int64  \n",
      " 2   Gender                             103904 non-null  object \n",
      " 3   Customer Type                      103904 non-null  object \n",
      " 4   Age                                103904 non-null  int64  \n",
      " 5   Type of Travel                     103904 non-null  object \n",
      " 6   Class                              103904 non-null  object \n",
      " 7   Flight Distance                    103904 non-null  int64  \n",
      " 8   Inflight wifi service              103904 non-null  int64  \n",
      " 9   Departure/Arrival time convenient  103904 non-null  int64  \n",
      " 10  Ease of Online booking             103904 non-null  int64  \n",
      " 11  Gate location                      103904 non-null  int64  \n",
      " 12  Food and drink                     103904 non-null  int64  \n",
      " 13  Online boarding                    103904 non-null  int64  \n",
      " 14  Seat comfort                       103904 non-null  int64  \n",
      " 15  Inflight entertainment             103904 non-null  int64  \n",
      " 16  On-board service                   103904 non-null  int64  \n",
      " 17  Leg room service                   103904 non-null  int64  \n",
      " 18  Baggage handling                   103904 non-null  int64  \n",
      " 19  Checkin service                    103904 non-null  int64  \n",
      " 20  Inflight service                   103904 non-null  int64  \n",
      " 21  Cleanliness                        103904 non-null  int64  \n",
      " 22  Departure Delay in Minutes         103904 non-null  int64  \n",
      " 23  Arrival Delay in Minutes           103594 non-null  float64\n",
      " 24  satisfaction                       103904 non-null  object \n",
      "dtypes: float64(1), int64(19), object(5)\n",
      "memory usage: 19.8+ MB\n"
     ]
    }
   ],
   "source": [
    "data.info()"
   ]
  },
  {
   "cell_type": "code",
   "execution_count": 5,
   "id": "91dc21bf",
   "metadata": {},
   "outputs": [
    {
     "data": {
      "text/plain": [
       "Unnamed: 0                             0\n",
       "id                                     0\n",
       "Gender                                 0\n",
       "Customer Type                          0\n",
       "Age                                    0\n",
       "Type of Travel                         0\n",
       "Class                                  0\n",
       "Flight Distance                        0\n",
       "Inflight wifi service                  0\n",
       "Departure/Arrival time convenient      0\n",
       "Ease of Online booking                 0\n",
       "Gate location                          0\n",
       "Food and drink                         0\n",
       "Online boarding                        0\n",
       "Seat comfort                           0\n",
       "Inflight entertainment                 0\n",
       "On-board service                       0\n",
       "Leg room service                       0\n",
       "Baggage handling                       0\n",
       "Checkin service                        0\n",
       "Inflight service                       0\n",
       "Cleanliness                            0\n",
       "Departure Delay in Minutes             0\n",
       "Arrival Delay in Minutes             310\n",
       "satisfaction                           0\n",
       "dtype: int64"
      ]
     },
     "execution_count": 5,
     "metadata": {},
     "output_type": "execute_result"
    }
   ],
   "source": [
    "data.isnull().sum()"
   ]
  },
  {
   "cell_type": "code",
   "execution_count": 6,
   "id": "2f6277ac",
   "metadata": {},
   "outputs": [
    {
     "data": {
      "text/plain": [
       "103594"
      ]
     },
     "execution_count": 6,
     "metadata": {},
     "output_type": "execute_result"
    }
   ],
   "source": [
    "data['Arrival Delay in Minutes'].count()"
   ]
  },
  {
   "cell_type": "code",
   "execution_count": 7,
   "id": "0ce33ea5",
   "metadata": {},
   "outputs": [],
   "source": [
    "from sklearn.impute import SimpleImputer\n",
    "imputer_str=SimpleImputer(missing_values=np.nan,strategy='most_frequent',fill_value=None,verbose=0,copy=True,add_indicator=False)\n",
    "data['Arrival Delay in Minutes']=imputer_str.fit_transform(data[['Arrival Delay in Minutes']])\n"
   ]
  },
  {
   "cell_type": "code",
   "execution_count": 8,
   "id": "8ba17431",
   "metadata": {},
   "outputs": [
    {
     "data": {
      "text/plain": [
       "Unnamed: 0                           0\n",
       "id                                   0\n",
       "Gender                               0\n",
       "Customer Type                        0\n",
       "Age                                  0\n",
       "Type of Travel                       0\n",
       "Class                                0\n",
       "Flight Distance                      0\n",
       "Inflight wifi service                0\n",
       "Departure/Arrival time convenient    0\n",
       "Ease of Online booking               0\n",
       "Gate location                        0\n",
       "Food and drink                       0\n",
       "Online boarding                      0\n",
       "Seat comfort                         0\n",
       "Inflight entertainment               0\n",
       "On-board service                     0\n",
       "Leg room service                     0\n",
       "Baggage handling                     0\n",
       "Checkin service                      0\n",
       "Inflight service                     0\n",
       "Cleanliness                          0\n",
       "Departure Delay in Minutes           0\n",
       "Arrival Delay in Minutes             0\n",
       "satisfaction                         0\n",
       "dtype: int64"
      ]
     },
     "execution_count": 8,
     "metadata": {},
     "output_type": "execute_result"
    }
   ],
   "source": [
    "data.isnull().sum()"
   ]
  },
  {
   "cell_type": "code",
   "execution_count": 9,
   "id": "c5c4c00c",
   "metadata": {},
   "outputs": [
    {
     "data": {
      "text/html": [
       "<div>\n",
       "<style scoped>\n",
       "    .dataframe tbody tr th:only-of-type {\n",
       "        vertical-align: middle;\n",
       "    }\n",
       "\n",
       "    .dataframe tbody tr th {\n",
       "        vertical-align: top;\n",
       "    }\n",
       "\n",
       "    .dataframe thead th {\n",
       "        text-align: right;\n",
       "    }\n",
       "</style>\n",
       "<table border=\"1\" class=\"dataframe\">\n",
       "  <thead>\n",
       "    <tr style=\"text-align: right;\">\n",
       "      <th></th>\n",
       "      <th>Unnamed: 0</th>\n",
       "      <th>id</th>\n",
       "      <th>Gender</th>\n",
       "      <th>Customer Type</th>\n",
       "      <th>Age</th>\n",
       "      <th>Type of Travel</th>\n",
       "      <th>Class</th>\n",
       "      <th>Flight Distance</th>\n",
       "      <th>Inflight wifi service</th>\n",
       "      <th>Departure/Arrival time convenient</th>\n",
       "      <th>Ease of Online booking</th>\n",
       "      <th>Gate location</th>\n",
       "      <th>Food and drink</th>\n",
       "      <th>Online boarding</th>\n",
       "      <th>Seat comfort</th>\n",
       "      <th>Inflight entertainment</th>\n",
       "      <th>On-board service</th>\n",
       "      <th>Leg room service</th>\n",
       "      <th>Baggage handling</th>\n",
       "      <th>Checkin service</th>\n",
       "      <th>Inflight service</th>\n",
       "      <th>Cleanliness</th>\n",
       "      <th>Departure Delay in Minutes</th>\n",
       "      <th>Arrival Delay in Minutes</th>\n",
       "      <th>satisfaction</th>\n",
       "    </tr>\n",
       "  </thead>\n",
       "  <tbody>\n",
       "    <tr>\n",
       "      <th>0</th>\n",
       "      <td>0</td>\n",
       "      <td>19556</td>\n",
       "      <td>Female</td>\n",
       "      <td>Loyal Customer</td>\n",
       "      <td>52</td>\n",
       "      <td>Business travel</td>\n",
       "      <td>Eco</td>\n",
       "      <td>160</td>\n",
       "      <td>5</td>\n",
       "      <td>4</td>\n",
       "      <td>3</td>\n",
       "      <td>4</td>\n",
       "      <td>3</td>\n",
       "      <td>4</td>\n",
       "      <td>3</td>\n",
       "      <td>5</td>\n",
       "      <td>5</td>\n",
       "      <td>5</td>\n",
       "      <td>5</td>\n",
       "      <td>2</td>\n",
       "      <td>5</td>\n",
       "      <td>5</td>\n",
       "      <td>50</td>\n",
       "      <td>44.0</td>\n",
       "      <td>satisfied</td>\n",
       "    </tr>\n",
       "    <tr>\n",
       "      <th>1</th>\n",
       "      <td>1</td>\n",
       "      <td>90035</td>\n",
       "      <td>Female</td>\n",
       "      <td>Loyal Customer</td>\n",
       "      <td>36</td>\n",
       "      <td>Business travel</td>\n",
       "      <td>Business</td>\n",
       "      <td>2863</td>\n",
       "      <td>1</td>\n",
       "      <td>1</td>\n",
       "      <td>3</td>\n",
       "      <td>1</td>\n",
       "      <td>5</td>\n",
       "      <td>4</td>\n",
       "      <td>5</td>\n",
       "      <td>4</td>\n",
       "      <td>4</td>\n",
       "      <td>4</td>\n",
       "      <td>4</td>\n",
       "      <td>3</td>\n",
       "      <td>4</td>\n",
       "      <td>5</td>\n",
       "      <td>0</td>\n",
       "      <td>0.0</td>\n",
       "      <td>satisfied</td>\n",
       "    </tr>\n",
       "    <tr>\n",
       "      <th>2</th>\n",
       "      <td>2</td>\n",
       "      <td>12360</td>\n",
       "      <td>Male</td>\n",
       "      <td>disloyal Customer</td>\n",
       "      <td>20</td>\n",
       "      <td>Business travel</td>\n",
       "      <td>Eco</td>\n",
       "      <td>192</td>\n",
       "      <td>2</td>\n",
       "      <td>0</td>\n",
       "      <td>2</td>\n",
       "      <td>4</td>\n",
       "      <td>2</td>\n",
       "      <td>2</td>\n",
       "      <td>2</td>\n",
       "      <td>2</td>\n",
       "      <td>4</td>\n",
       "      <td>1</td>\n",
       "      <td>3</td>\n",
       "      <td>2</td>\n",
       "      <td>2</td>\n",
       "      <td>2</td>\n",
       "      <td>0</td>\n",
       "      <td>0.0</td>\n",
       "      <td>neutral or dissatisfied</td>\n",
       "    </tr>\n",
       "    <tr>\n",
       "      <th>3</th>\n",
       "      <td>3</td>\n",
       "      <td>77959</td>\n",
       "      <td>Male</td>\n",
       "      <td>Loyal Customer</td>\n",
       "      <td>44</td>\n",
       "      <td>Business travel</td>\n",
       "      <td>Business</td>\n",
       "      <td>3377</td>\n",
       "      <td>0</td>\n",
       "      <td>0</td>\n",
       "      <td>0</td>\n",
       "      <td>2</td>\n",
       "      <td>3</td>\n",
       "      <td>4</td>\n",
       "      <td>4</td>\n",
       "      <td>1</td>\n",
       "      <td>1</td>\n",
       "      <td>1</td>\n",
       "      <td>1</td>\n",
       "      <td>3</td>\n",
       "      <td>1</td>\n",
       "      <td>4</td>\n",
       "      <td>0</td>\n",
       "      <td>6.0</td>\n",
       "      <td>satisfied</td>\n",
       "    </tr>\n",
       "    <tr>\n",
       "      <th>4</th>\n",
       "      <td>4</td>\n",
       "      <td>36875</td>\n",
       "      <td>Female</td>\n",
       "      <td>Loyal Customer</td>\n",
       "      <td>49</td>\n",
       "      <td>Business travel</td>\n",
       "      <td>Eco</td>\n",
       "      <td>1182</td>\n",
       "      <td>2</td>\n",
       "      <td>3</td>\n",
       "      <td>4</td>\n",
       "      <td>3</td>\n",
       "      <td>4</td>\n",
       "      <td>1</td>\n",
       "      <td>2</td>\n",
       "      <td>2</td>\n",
       "      <td>2</td>\n",
       "      <td>2</td>\n",
       "      <td>2</td>\n",
       "      <td>4</td>\n",
       "      <td>2</td>\n",
       "      <td>4</td>\n",
       "      <td>0</td>\n",
       "      <td>20.0</td>\n",
       "      <td>satisfied</td>\n",
       "    </tr>\n",
       "  </tbody>\n",
       "</table>\n",
       "</div>"
      ],
      "text/plain": [
       "   Unnamed: 0     id  Gender      Customer Type  Age   Type of Travel  \\\n",
       "0           0  19556  Female     Loyal Customer   52  Business travel   \n",
       "1           1  90035  Female     Loyal Customer   36  Business travel   \n",
       "2           2  12360    Male  disloyal Customer   20  Business travel   \n",
       "3           3  77959    Male     Loyal Customer   44  Business travel   \n",
       "4           4  36875  Female     Loyal Customer   49  Business travel   \n",
       "\n",
       "      Class  Flight Distance  Inflight wifi service  \\\n",
       "0       Eco              160                      5   \n",
       "1  Business             2863                      1   \n",
       "2       Eco              192                      2   \n",
       "3  Business             3377                      0   \n",
       "4       Eco             1182                      2   \n",
       "\n",
       "   Departure/Arrival time convenient  Ease of Online booking  Gate location  \\\n",
       "0                                  4                       3              4   \n",
       "1                                  1                       3              1   \n",
       "2                                  0                       2              4   \n",
       "3                                  0                       0              2   \n",
       "4                                  3                       4              3   \n",
       "\n",
       "   Food and drink  Online boarding  Seat comfort  Inflight entertainment  \\\n",
       "0               3                4             3                       5   \n",
       "1               5                4             5                       4   \n",
       "2               2                2             2                       2   \n",
       "3               3                4             4                       1   \n",
       "4               4                1             2                       2   \n",
       "\n",
       "   On-board service  Leg room service  Baggage handling  Checkin service  \\\n",
       "0                 5                 5                 5                2   \n",
       "1                 4                 4                 4                3   \n",
       "2                 4                 1                 3                2   \n",
       "3                 1                 1                 1                3   \n",
       "4                 2                 2                 2                4   \n",
       "\n",
       "   Inflight service  Cleanliness  Departure Delay in Minutes  \\\n",
       "0                 5            5                          50   \n",
       "1                 4            5                           0   \n",
       "2                 2            2                           0   \n",
       "3                 1            4                           0   \n",
       "4                 2            4                           0   \n",
       "\n",
       "   Arrival Delay in Minutes             satisfaction  \n",
       "0                      44.0                satisfied  \n",
       "1                       0.0                satisfied  \n",
       "2                       0.0  neutral or dissatisfied  \n",
       "3                       6.0                satisfied  \n",
       "4                      20.0                satisfied  "
      ]
     },
     "execution_count": 9,
     "metadata": {},
     "output_type": "execute_result"
    }
   ],
   "source": [
    "#load the test data\n",
    "data_test= pd.read_csv(r\"C:\\Users\\mouni\\OneDrive\\Desktop\\aiml\\test.csv\",header=0)\n",
    "\n",
    "# Copy the file to back-up\n",
    "\n",
    "data1_bk = data_test.copy()\n",
    "\n",
    "# Display first 5 records\n",
    "\n",
    "data_test.head()"
   ]
  },
  {
   "cell_type": "code",
   "execution_count": 10,
   "id": "806c98f5",
   "metadata": {},
   "outputs": [
    {
     "data": {
      "text/plain": [
       "(25976, 25)"
      ]
     },
     "execution_count": 10,
     "metadata": {},
     "output_type": "execute_result"
    }
   ],
   "source": [
    "data_test.shape"
   ]
  },
  {
   "cell_type": "code",
   "execution_count": 11,
   "id": "8651b775",
   "metadata": {},
   "outputs": [
    {
     "name": "stdout",
     "output_type": "stream",
     "text": [
      "<class 'pandas.core.frame.DataFrame'>\n",
      "RangeIndex: 25976 entries, 0 to 25975\n",
      "Data columns (total 25 columns):\n",
      " #   Column                             Non-Null Count  Dtype  \n",
      "---  ------                             --------------  -----  \n",
      " 0   Unnamed: 0                         25976 non-null  int64  \n",
      " 1   id                                 25976 non-null  int64  \n",
      " 2   Gender                             25976 non-null  object \n",
      " 3   Customer Type                      25976 non-null  object \n",
      " 4   Age                                25976 non-null  int64  \n",
      " 5   Type of Travel                     25976 non-null  object \n",
      " 6   Class                              25976 non-null  object \n",
      " 7   Flight Distance                    25976 non-null  int64  \n",
      " 8   Inflight wifi service              25976 non-null  int64  \n",
      " 9   Departure/Arrival time convenient  25976 non-null  int64  \n",
      " 10  Ease of Online booking             25976 non-null  int64  \n",
      " 11  Gate location                      25976 non-null  int64  \n",
      " 12  Food and drink                     25976 non-null  int64  \n",
      " 13  Online boarding                    25976 non-null  int64  \n",
      " 14  Seat comfort                       25976 non-null  int64  \n",
      " 15  Inflight entertainment             25976 non-null  int64  \n",
      " 16  On-board service                   25976 non-null  int64  \n",
      " 17  Leg room service                   25976 non-null  int64  \n",
      " 18  Baggage handling                   25976 non-null  int64  \n",
      " 19  Checkin service                    25976 non-null  int64  \n",
      " 20  Inflight service                   25976 non-null  int64  \n",
      " 21  Cleanliness                        25976 non-null  int64  \n",
      " 22  Departure Delay in Minutes         25976 non-null  int64  \n",
      " 23  Arrival Delay in Minutes           25893 non-null  float64\n",
      " 24  satisfaction                       25976 non-null  object \n",
      "dtypes: float64(1), int64(19), object(5)\n",
      "memory usage: 5.0+ MB\n"
     ]
    }
   ],
   "source": [
    "data_test.info()"
   ]
  },
  {
   "cell_type": "code",
   "execution_count": 12,
   "id": "86181764",
   "metadata": {},
   "outputs": [
    {
     "data": {
      "text/plain": [
       "Unnamed: 0                            0\n",
       "id                                    0\n",
       "Gender                                0\n",
       "Customer Type                         0\n",
       "Age                                   0\n",
       "Type of Travel                        0\n",
       "Class                                 0\n",
       "Flight Distance                       0\n",
       "Inflight wifi service                 0\n",
       "Departure/Arrival time convenient     0\n",
       "Ease of Online booking                0\n",
       "Gate location                         0\n",
       "Food and drink                        0\n",
       "Online boarding                       0\n",
       "Seat comfort                          0\n",
       "Inflight entertainment                0\n",
       "On-board service                      0\n",
       "Leg room service                      0\n",
       "Baggage handling                      0\n",
       "Checkin service                       0\n",
       "Inflight service                      0\n",
       "Cleanliness                           0\n",
       "Departure Delay in Minutes            0\n",
       "Arrival Delay in Minutes             83\n",
       "satisfaction                          0\n",
       "dtype: int64"
      ]
     },
     "execution_count": 12,
     "metadata": {},
     "output_type": "execute_result"
    }
   ],
   "source": [
    "data_test.isnull().sum()"
   ]
  },
  {
   "cell_type": "code",
   "execution_count": 13,
   "id": "e2e4f13b",
   "metadata": {},
   "outputs": [
    {
     "data": {
      "text/plain": [
       "25893"
      ]
     },
     "execution_count": 13,
     "metadata": {},
     "output_type": "execute_result"
    }
   ],
   "source": [
    "data_test['Arrival Delay in Minutes'].count()"
   ]
  },
  {
   "cell_type": "code",
   "execution_count": 14,
   "id": "3f657c62",
   "metadata": {},
   "outputs": [],
   "source": [
    "from sklearn.impute import SimpleImputer\n",
    "imputer_str=SimpleImputer(missing_values=np.nan,strategy='most_frequent',fill_value=None,verbose=0,copy=True,add_indicator=False)\n",
    "data_test['Arrival Delay in Minutes']=imputer_str.fit_transform(data_test[['Arrival Delay in Minutes']])\n"
   ]
  },
  {
   "cell_type": "code",
   "execution_count": 15,
   "id": "adea4b4e",
   "metadata": {},
   "outputs": [
    {
     "data": {
      "text/plain": [
       "Unnamed: 0                           0\n",
       "id                                   0\n",
       "Gender                               0\n",
       "Customer Type                        0\n",
       "Age                                  0\n",
       "Type of Travel                       0\n",
       "Class                                0\n",
       "Flight Distance                      0\n",
       "Inflight wifi service                0\n",
       "Departure/Arrival time convenient    0\n",
       "Ease of Online booking               0\n",
       "Gate location                        0\n",
       "Food and drink                       0\n",
       "Online boarding                      0\n",
       "Seat comfort                         0\n",
       "Inflight entertainment               0\n",
       "On-board service                     0\n",
       "Leg room service                     0\n",
       "Baggage handling                     0\n",
       "Checkin service                      0\n",
       "Inflight service                     0\n",
       "Cleanliness                          0\n",
       "Departure Delay in Minutes           0\n",
       "Arrival Delay in Minutes             0\n",
       "satisfaction                         0\n",
       "dtype: int64"
      ]
     },
     "execution_count": 15,
     "metadata": {},
     "output_type": "execute_result"
    }
   ],
   "source": [
    "data_test.isnull().sum()"
   ]
  },
  {
   "cell_type": "code",
   "execution_count": 16,
   "id": "9b73eb6f",
   "metadata": {},
   "outputs": [],
   "source": [
    "#use labelencoder to handle categorical data\n",
    "from sklearn.preprocessing import LabelEncoder\n",
    "le=LabelEncoder()\n",
    "data['Gender']=le.fit_transform(data[['Gender']])\n",
    "data['Customer Type']=le.fit_transform(data[['Customer Type']])\n",
    "data['Type of Travel']=le.fit_transform(data[['Type of Travel']])\n",
    "data['Class']=le.fit_transform(data[['Class']])\n",
    "data['satisfaction']=le.fit_transform(data[['satisfaction']])\n",
    "\n"
   ]
  },
  {
   "cell_type": "code",
   "execution_count": 17,
   "id": "28254386",
   "metadata": {},
   "outputs": [
    {
     "name": "stdout",
     "output_type": "stream",
     "text": [
      "<class 'pandas.core.frame.DataFrame'>\n",
      "RangeIndex: 103904 entries, 0 to 103903\n",
      "Data columns (total 25 columns):\n",
      " #   Column                             Non-Null Count   Dtype  \n",
      "---  ------                             --------------   -----  \n",
      " 0   Unnamed: 0                         103904 non-null  int64  \n",
      " 1   id                                 103904 non-null  int64  \n",
      " 2   Gender                             103904 non-null  int32  \n",
      " 3   Customer Type                      103904 non-null  int32  \n",
      " 4   Age                                103904 non-null  int64  \n",
      " 5   Type of Travel                     103904 non-null  int32  \n",
      " 6   Class                              103904 non-null  int32  \n",
      " 7   Flight Distance                    103904 non-null  int64  \n",
      " 8   Inflight wifi service              103904 non-null  int64  \n",
      " 9   Departure/Arrival time convenient  103904 non-null  int64  \n",
      " 10  Ease of Online booking             103904 non-null  int64  \n",
      " 11  Gate location                      103904 non-null  int64  \n",
      " 12  Food and drink                     103904 non-null  int64  \n",
      " 13  Online boarding                    103904 non-null  int64  \n",
      " 14  Seat comfort                       103904 non-null  int64  \n",
      " 15  Inflight entertainment             103904 non-null  int64  \n",
      " 16  On-board service                   103904 non-null  int64  \n",
      " 17  Leg room service                   103904 non-null  int64  \n",
      " 18  Baggage handling                   103904 non-null  int64  \n",
      " 19  Checkin service                    103904 non-null  int64  \n",
      " 20  Inflight service                   103904 non-null  int64  \n",
      " 21  Cleanliness                        103904 non-null  int64  \n",
      " 22  Departure Delay in Minutes         103904 non-null  int64  \n",
      " 23  Arrival Delay in Minutes           103904 non-null  float64\n",
      " 24  satisfaction                       103904 non-null  int32  \n",
      "dtypes: float64(1), int32(5), int64(19)\n",
      "memory usage: 17.8 MB\n"
     ]
    }
   ],
   "source": [
    "data.info()"
   ]
  },
  {
   "cell_type": "code",
   "execution_count": 18,
   "id": "9f9c8960",
   "metadata": {},
   "outputs": [],
   "source": [
    "#use labelencoder to handle categorical data\n",
    "from sklearn.preprocessing import LabelEncoder\n",
    "le=LabelEncoder()\n",
    "data_test['Gender']=le.fit_transform(data_test[['Gender']])\n",
    "data_test['Customer Type']=le.fit_transform(data_test[['Customer Type']])\n",
    "data_test['Type of Travel']=le.fit_transform(data_test[['Type of Travel']])\n",
    "data_test['Class']=le.fit_transform(data_test[['Class']])\n",
    "data_test['satisfaction']=le.fit_transform(data_test[['satisfaction']])\n",
    "\n"
   ]
  },
  {
   "cell_type": "code",
   "execution_count": 19,
   "id": "732802ee",
   "metadata": {},
   "outputs": [
    {
     "name": "stdout",
     "output_type": "stream",
     "text": [
      "<class 'pandas.core.frame.DataFrame'>\n",
      "RangeIndex: 25976 entries, 0 to 25975\n",
      "Data columns (total 25 columns):\n",
      " #   Column                             Non-Null Count  Dtype  \n",
      "---  ------                             --------------  -----  \n",
      " 0   Unnamed: 0                         25976 non-null  int64  \n",
      " 1   id                                 25976 non-null  int64  \n",
      " 2   Gender                             25976 non-null  int32  \n",
      " 3   Customer Type                      25976 non-null  int32  \n",
      " 4   Age                                25976 non-null  int64  \n",
      " 5   Type of Travel                     25976 non-null  int32  \n",
      " 6   Class                              25976 non-null  int32  \n",
      " 7   Flight Distance                    25976 non-null  int64  \n",
      " 8   Inflight wifi service              25976 non-null  int64  \n",
      " 9   Departure/Arrival time convenient  25976 non-null  int64  \n",
      " 10  Ease of Online booking             25976 non-null  int64  \n",
      " 11  Gate location                      25976 non-null  int64  \n",
      " 12  Food and drink                     25976 non-null  int64  \n",
      " 13  Online boarding                    25976 non-null  int64  \n",
      " 14  Seat comfort                       25976 non-null  int64  \n",
      " 15  Inflight entertainment             25976 non-null  int64  \n",
      " 16  On-board service                   25976 non-null  int64  \n",
      " 17  Leg room service                   25976 non-null  int64  \n",
      " 18  Baggage handling                   25976 non-null  int64  \n",
      " 19  Checkin service                    25976 non-null  int64  \n",
      " 20  Inflight service                   25976 non-null  int64  \n",
      " 21  Cleanliness                        25976 non-null  int64  \n",
      " 22  Departure Delay in Minutes         25976 non-null  int64  \n",
      " 23  Arrival Delay in Minutes           25976 non-null  float64\n",
      " 24  satisfaction                       25976 non-null  int32  \n",
      "dtypes: float64(1), int32(5), int64(19)\n",
      "memory usage: 4.5 MB\n"
     ]
    }
   ],
   "source": [
    "data_test.info()"
   ]
  },
  {
   "cell_type": "code",
   "execution_count": 20,
   "id": "f966d50a",
   "metadata": {},
   "outputs": [
    {
     "data": {
      "text/plain": [
       "0    58879\n",
       "1    45025\n",
       "Name: satisfaction, dtype: int64"
      ]
     },
     "execution_count": 20,
     "metadata": {},
     "output_type": "execute_result"
    }
   ],
   "source": [
    "data['satisfaction'].value_counts()"
   ]
  },
  {
   "cell_type": "code",
   "execution_count": 21,
   "id": "67d7f4e6",
   "metadata": {},
   "outputs": [
    {
     "name": "stdout",
     "output_type": "stream",
     "text": [
      "Class 0: 58879\n",
      "Class 1: 45025\n",
      "Proportion: 1.31 : 1\n",
      "Total: 103904\n"
     ]
    }
   ],
   "source": [
    "#Count the target or dependent variable by '0' & '1' and \n",
    "# their proportion (> 10 : 1, then the dataset is imbalance dataset)\n",
    "\n",
    "data_count = data.satisfaction.value_counts()\n",
    "print('Class 0:', data_count[0])\n",
    "print('Class 1:', data_count[1])\n",
    "print('Proportion:', round(data_count[0] / data_count[1], 2), ': 1')\n",
    "print('Total:', len(data))"
   ]
  },
  {
   "cell_type": "code",
   "execution_count": 22,
   "id": "22d514eb",
   "metadata": {},
   "outputs": [
    {
     "data": {
      "image/png": "[encoded data removed]",
      "text/plain": [
       "<Figure size 576x360 with 1 Axes>"
      ]
     },
     "metadata": {
      "needs_background": "light"
     },
     "output_type": "display_data"
    }
   ],
   "source": [
    "# Checking the nature of data set: balanced or imbalanced?\n",
    "import matplotlib.pyplot as plt\n",
    "fig = plt.figure(figsize = (8,5))\n",
    "data.satisfaction.value_counts(normalize = True).plot(kind='bar', color= ['darkorange','steelblue'], alpha = 0.9, rot=0)\n",
    "plt.title('Satisfaction Indicator (0) and (1) in the Dataset')\n",
    "plt.show()"
   ]
  },
  {
   "cell_type": "code",
   "execution_count": 23,
   "id": "8c6f454f",
   "metadata": {},
   "outputs": [],
   "source": [
    "\n",
    "IndepVar = []\n",
    "for col in data.columns:\n",
    "    if col != 'satisfaction':\n",
    "        IndepVar.append(col)\n",
    "\n",
    "TargetVar = 'satisfaction'\n",
    "\n",
    "x_train =data[IndepVar]\n",
    "y_train =data[TargetVar]"
   ]
  },
  {
   "cell_type": "code",
   "execution_count": 24,
   "id": "cb6bf9f2",
   "metadata": {},
   "outputs": [],
   "source": [
    "\n",
    "IndepVar = []\n",
    "for col in data_test.columns:\n",
    "    if col != 'satisfaction':\n",
    "        IndepVar.append(col)\n",
    "\n",
    "TargetVar = 'satisfaction'\n",
    "\n",
    "x_test =data_test[IndepVar]\n",
    "y_test =data_test[TargetVar]"
   ]
  },
  {
   "cell_type": "code",
   "execution_count": 25,
   "id": "f01f20f3",
   "metadata": {},
   "outputs": [],
   "source": [
    "cols=['Age','Class','Flight Distance','Inflight wifi service','Departure/Arrival time convenient','Ease of Online booking','Gate location','Food and drink','Online boarding','Seat comfort','Inflight entertainment','On-board service','Leg room service','Baggage handling','Checkin service','Inflight service','Cleanliness','Departure Delay in Minutes','Arrival Delay in Minutes']"
   ]
  },
  {
   "cell_type": "code",
   "execution_count": 26,
   "id": "158cc420",
   "metadata": {},
   "outputs": [],
   "source": [
    "# Scaling the features by using MinMaxScaler\n",
    "\n",
    "from sklearn.preprocessing import MinMaxScaler\n",
    "\n",
    "mmscaler = MinMaxScaler(feature_range=(0, 1))\n",
    "\n",
    "x_train[cols] = mmscaler.fit_transform(x_train[cols])\n",
    "x_train = pd.DataFrame(x_train)\n",
    "\n",
    "x_test[cols] = mmscaler.fit_transform(x_test[cols])\n",
    "x_test = pd.DataFrame(x_test)"
   ]
  },
  {
   "cell_type": "code",
   "execution_count": 58,
   "id": "ccd3e249",
   "metadata": {},
   "outputs": [
    {
     "data": {
      "text/html": [
       "<div>\n",
       "<style scoped>\n",
       "    .dataframe tbody tr th:only-of-type {\n",
       "        vertical-align: middle;\n",
       "    }\n",
       "\n",
       "    .dataframe tbody tr th {\n",
       "        vertical-align: top;\n",
       "    }\n",
       "\n",
       "    .dataframe thead th {\n",
       "        text-align: right;\n",
       "    }\n",
       "</style>\n",
       "<table border=\"1\" class=\"dataframe\">\n",
       "  <thead>\n",
       "    <tr style=\"text-align: right;\">\n",
       "      <th></th>\n",
       "      <th>Model Name</th>\n",
       "      <th>True Positive</th>\n",
       "      <th>False Negative</th>\n",
       "      <th>False Positive</th>\n",
       "      <th>True Negative</th>\n",
       "      <th>Accuracy</th>\n",
       "      <th>Precision</th>\n",
       "      <th>Recall</th>\n",
       "      <th>F1 Score</th>\n",
       "      <th>Specificity</th>\n",
       "      <th>MCC</th>\n",
       "      <th>ROC_AUC_Score</th>\n",
       "      <th>Balanced Accuracy</th>\n",
       "    </tr>\n",
       "  </thead>\n",
       "  <tbody>\n",
       "  </tbody>\n",
       "</table>\n",
       "</div>"
      ],
      "text/plain": [
       "Empty DataFrame\n",
       "Columns: [Model Name, True Positive, False Negative, False Positive, True Negative, Accuracy, Precision, Recall, F1 Score, Specificity, MCC, ROC_AUC_Score, Balanced Accuracy]\n",
       "Index: []"
      ]
     },
     "execution_count": 58,
     "metadata": {},
     "output_type": "execute_result"
    }
   ],
   "source": [
    "HTResults = pd.read_csv(r\"C:\\Users\\mouni\\OneDrive\\Desktop\\aiml\\HTResults.csv\", header=0)\n",
    "HTResults.head()"
   ]
  },
  {
   "cell_type": "code",
   "execution_count": 28,
   "id": "66e457c2",
   "metadata": {},
   "outputs": [
    {
     "name": "stdout",
     "output_type": "stream",
     "text": [
      "Model Name:  LogisticRegression()\n",
      "Confusion matrix : \n",
      " [[    0 11403]\n",
      " [    0 14573]]\n",
      "Outcome values : \n",
      " 0 11403 0 14573\n",
      "Classification report : \n",
      "               precision    recall  f1-score   support\n",
      "\n",
      "           1       0.00      0.00      0.00     11403\n",
      "           0       0.56      1.00      0.72     14573\n",
      "\n",
      "    accuracy                           0.56     25976\n",
      "   macro avg       0.28      0.50      0.36     25976\n",
      "weighted avg       0.31      0.56      0.40     25976\n",
      "\n",
      "Accuracy : 56.1 %\n",
      "Precision : nan %\n",
      "Recall : 0.0 %\n",
      "F1 Score : 0.0\n",
      "Specificity or True Negative Rate : 100.0 %\n",
      "Balanced Accuracy : 50.0 %\n",
      "MCC : nan\n",
      "roc_auc_score: 0.5\n"
     ]
    },
    {
     "data": {
      "image/png": "[encoded data removed]",
      "text/plain": [
       "<Figure size 432x288 with 1 Axes>"
      ]
     },
     "metadata": {
      "needs_background": "light"
     },
     "output_type": "display_data"
    },
    {
     "name": "stdout",
     "output_type": "stream",
     "text": [
      "-----------------------------------------------------------------------------------------------------\n",
      "Model Name:  DecisionTreeClassifier()\n",
      "Confusion matrix : \n",
      " [[10393  1010]\n",
      " [  921 13652]]\n",
      "Outcome values : \n",
      " 10393 1010 921 13652\n",
      "Classification report : \n",
      "               precision    recall  f1-score   support\n",
      "\n",
      "           1       0.92      0.91      0.91     11403\n",
      "           0       0.93      0.94      0.93     14573\n",
      "\n",
      "    accuracy                           0.93     25976\n",
      "   macro avg       0.92      0.92      0.92     25976\n",
      "weighted avg       0.93      0.93      0.93     25976\n",
      "\n",
      "Accuracy : 92.6 %\n",
      "Precision : 91.9 %\n",
      "Recall : 91.1 %\n",
      "F1 Score : 0.915\n",
      "Specificity or True Negative Rate : 93.7 %\n",
      "Balanced Accuracy : 92.4 %\n",
      "MCC : 0.849\n",
      "roc_auc_score: 0.924\n"
     ]
    },
    {
     "data": {
      "image/png": "[encoded data removed]",
      "text/plain": [
       "<Figure size 432x288 with 1 Axes>"
      ]
     },
     "metadata": {
      "needs_background": "light"
     },
     "output_type": "display_data"
    },
    {
     "name": "stdout",
     "output_type": "stream",
     "text": [
      "-----------------------------------------------------------------------------------------------------\n",
      "Model Name:  RandomForestClassifier()\n",
      "Confusion matrix : \n",
      " [[10650   753]\n",
      " [  287 14286]]\n",
      "Outcome values : \n",
      " 10650 753 287 14286\n",
      "Classification report : \n",
      "               precision    recall  f1-score   support\n",
      "\n",
      "           1       0.97      0.93      0.95     11403\n",
      "           0       0.95      0.98      0.96     14573\n",
      "\n",
      "    accuracy                           0.96     25976\n",
      "   macro avg       0.96      0.96      0.96     25976\n",
      "weighted avg       0.96      0.96      0.96     25976\n",
      "\n",
      "Accuracy : 96.0 %\n",
      "Precision : 97.4 %\n",
      "Recall : 93.4 %\n",
      "F1 Score : 0.953\n",
      "Specificity or True Negative Rate : 98.0 %\n",
      "Balanced Accuracy : 95.7 %\n",
      "MCC : 0.919\n",
      "roc_auc_score: 0.957\n"
     ]
    },
    {
     "data": {
      "image/png": "[encoded data removed]",
      "text/plain": [
       "<Figure size 432x288 with 1 Axes>"
      ]
     },
     "metadata": {
      "needs_background": "light"
     },
     "output_type": "display_data"
    },
    {
     "name": "stdout",
     "output_type": "stream",
     "text": [
      "-----------------------------------------------------------------------------------------------------\n",
      "Model Name:  ExtraTreesClassifier()\n",
      "Confusion matrix : \n",
      " [[10691   712]\n",
      " [  286 14287]]\n",
      "Outcome values : \n",
      " 10691 712 286 14287\n",
      "Classification report : \n",
      "               precision    recall  f1-score   support\n",
      "\n",
      "           1       0.97      0.94      0.96     11403\n",
      "           0       0.95      0.98      0.97     14573\n",
      "\n",
      "    accuracy                           0.96     25976\n",
      "   macro avg       0.96      0.96      0.96     25976\n",
      "weighted avg       0.96      0.96      0.96     25976\n",
      "\n",
      "Accuracy : 96.2 %\n",
      "Precision : 97.4 %\n",
      "Recall : 93.8 %\n",
      "F1 Score : 0.955\n",
      "Specificity or True Negative Rate : 98.0 %\n",
      "Balanced Accuracy : 95.9 %\n",
      "MCC : 0.922\n",
      "roc_auc_score: 0.959\n"
     ]
    },
    {
     "data": {
      "image/png": "[encoded data removed]",
      "text/plain": [
       "<Figure size 432x288 with 1 Axes>"
      ]
     },
     "metadata": {
      "needs_background": "light"
     },
     "output_type": "display_data"
    },
    {
     "name": "stdout",
     "output_type": "stream",
     "text": [
      "-----------------------------------------------------------------------------------------------------\n",
      "Model Name:  KNeighborsClassifier()\n",
      "Confusion matrix : \n",
      " [[4593 6810]\n",
      " [5564 9009]]\n",
      "Outcome values : \n",
      " 4593 6810 5564 9009\n",
      "Classification report : \n",
      "               precision    recall  f1-score   support\n",
      "\n",
      "           1       0.45      0.40      0.43     11403\n",
      "           0       0.57      0.62      0.59     14573\n",
      "\n",
      "    accuracy                           0.52     25976\n",
      "   macro avg       0.51      0.51      0.51     25976\n",
      "weighted avg       0.52      0.52      0.52     25976\n",
      "\n",
      "Accuracy : 52.4 %\n",
      "Precision : 45.2 %\n",
      "Recall : 40.3 %\n",
      "F1 Score : 0.426\n",
      "Specificity or True Negative Rate : 61.8 %\n",
      "Balanced Accuracy : 51.0 %\n",
      "MCC : 0.021\n",
      "roc_auc_score: 0.51\n"
     ]
    },
    {
     "data": {
      "image/png": "[encoded data removed]",
      "text/plain": [
       "<Figure size 432x288 with 1 Axes>"
      ]
     },
     "metadata": {
      "needs_background": "light"
     },
     "output_type": "display_data"
    },
    {
     "name": "stdout",
     "output_type": "stream",
     "text": [
      "-----------------------------------------------------------------------------------------------------\n"
     ]
    }
   ],
   "source": [
    "\n",
    "from sklearn.linear_model import LogisticRegression\n",
    "from sklearn.tree import DecisionTreeClassifier\n",
    "from sklearn.ensemble import RandomForestClassifier\n",
    "from sklearn.ensemble import ExtraTreesClassifier\n",
    "from sklearn.neighbors import KNeighborsClassifier\n",
    "\n",
    "\n",
    "# Create objects of classification algorithm with default hyper-parameters\n",
    "\n",
    "ModelLR = LogisticRegression()\n",
    "ModelDC = DecisionTreeClassifier()\n",
    "ModelRF = RandomForestClassifier()\n",
    "ModelET = ExtraTreesClassifier()\n",
    "ModelKNN = KNeighborsClassifier(n_neighbors=5)\n",
    "\n",
    "\n",
    "# Evalution matrix for all the algorithms\n",
    "\n",
    "MM = [ModelLR, ModelDC, ModelRF, ModelET, ModelKNN]\n",
    "for models in MM:\n",
    "    \n",
    "    # Fit the model\n",
    "    \n",
    "    models.fit(x_train, y_train)\n",
    "    \n",
    "    # Prediction\n",
    "    \n",
    "    y_pred = models.predict(x_test)\n",
    "    y_pred_prob = models.predict_proba(x_test)\n",
    "    \n",
    "    # Print the model name\n",
    "    \n",
    "    print('Model Name: ', models)\n",
    "    \n",
    "    # confusion matrix in sklearn\n",
    "\n",
    "    from sklearn.metrics import confusion_matrix\n",
    "    from sklearn.metrics import classification_report\n",
    "\n",
    "    # actual values\n",
    "\n",
    "    actual = y_test\n",
    "\n",
    "    # predicted values\n",
    "\n",
    "    predicted = y_pred\n",
    "\n",
    "    # confusion matrix\n",
    "\n",
    "    matrix = confusion_matrix(actual,predicted, labels=[1,0],sample_weight=None, normalize=None)\n",
    "    print('Confusion matrix : \\n', matrix)\n",
    "\n",
    "    # outcome values order in sklearn\n",
    "\n",
    "    tp, fn, fp, tn = confusion_matrix(actual,predicted,labels=[1,0]).reshape(-1)\n",
    "    print('Outcome values : \\n', tp, fn, fp, tn)\n",
    "\n",
    "    # classification report for precision, recall f1-score and accuracy\n",
    "\n",
    "    C_Report = classification_report(actual,predicted,labels=[1,0])\n",
    "\n",
    "    print('Classification report : \\n', C_Report)\n",
    "\n",
    "    # calculating the metrics\n",
    "\n",
    "    sensitivity = round(tp/(tp+fn), 3);\n",
    "    specificity = round(tn/(tn+fp), 3);\n",
    "    accuracy = round((tp+tn)/(tp+fp+tn+fn), 3);\n",
    "    balanced_accuracy = round((sensitivity+specificity)/2, 3);\n",
    "    \n",
    "    precision = round(tp/(tp+fp), 3);\n",
    "    f1Score = round((2*tp/(2*tp + fp + fn)), 3);\n",
    "\n",
    "    # Matthews Correlation Coefficient (MCC). Range of values of MCC lie between -1 to +1. \n",
    "    # A model with a score of +1 is a perfect model and -1 is a poor model\n",
    "\n",
    "    from math import sqrt\n",
    "\n",
    "    mx = (tp+fp) * (tp+fn) * (tn+fp) * (tn+fn)\n",
    "    MCC = round(((tp * tn) - (fp * fn)) / sqrt(mx), 3)\n",
    "\n",
    "    print('Accuracy :', round(accuracy*100, 2),'%')\n",
    "    print('Precision :', round(precision*100, 2),'%')\n",
    "    print('Recall :', round(sensitivity*100,2), '%')\n",
    "    print('F1 Score :', f1Score)\n",
    "    print('Specificity or True Negative Rate :', round(specificity*100,2), '%'  )\n",
    "    print('Balanced Accuracy :', round(balanced_accuracy*100, 2),'%')\n",
    "    print('MCC :', MCC)\n",
    "\n",
    "    # Area under ROC curve \n",
    "\n",
    "    from sklearn.metrics import roc_curve, roc_auc_score\n",
    "\n",
    "    print('roc_auc_score:', round(roc_auc_score(actual, predicted), 3))\n",
    "    \n",
    "    # ROC Curve\n",
    "    \n",
    "    from sklearn.metrics import roc_auc_score\n",
    "    from sklearn.metrics import roc_curve\n",
    "    logit_roc_auc = roc_auc_score(actual, predicted)\n",
    "    fpr, tpr, thresholds = roc_curve(actual, models.predict_proba(x_test)[:,1])\n",
    "    plt.figure()\n",
    "    # plt.plot(fpr, tpr, label='Logistic Regression (area = %0.2f)' % logit_roc_auc)\n",
    "    plt.plot(fpr, tpr, label= 'Classification Model' % logit_roc_auc)\n",
    "    plt.plot([0, 1], [0, 1],'r--')\n",
    "    plt.xlim([0.0, 1.0])\n",
    "    plt.ylim([0.0, 1.05])\n",
    "    plt.xlabel('False Positive Rate')\n",
    "    plt.ylabel('True Positive Rate')\n",
    "    plt.title('Receiver operating characteristic')\n",
    "    plt.legend(loc=\"lower right\")\n",
    "    plt.savefig('Log_ROC')\n",
    "    plt.show()\n",
    "    print('-----------------------------------------------------------------------------------------------------')\n",
    "    #----------------------------------------------------------------------------------------------------------\n",
    "    new_row = {'Model Name' : models,\n",
    "               'True Positive' : tp, \n",
    "               'False Negative' : fn, \n",
    "               'False Positive' : fp,\n",
    "               'True Negative' : tn,\n",
    "               'Accuracy' : accuracy,\n",
    "               'Precision' : precision,\n",
    "               'Recall' : sensitivity,\n",
    "               'F1 Score' : f1Score,\n",
    "               'Specificity' : specificity,\n",
    "               'MCC':MCC,\n",
    "               'ROC_AUC_Score':roc_auc_score(actual, predicted),\n",
    "               'Balanced Accuracy':balanced_accuracy}\n",
    "    HTResults = HTResults.append(new_row, ignore_index=True)"
   ]
  },
  {
   "cell_type": "code",
   "execution_count": 59,
   "id": "1c5768f9",
   "metadata": {},
   "outputs": [
    {
     "name": "stdout",
     "output_type": "stream",
     "text": [
      "Model Name:  LogisticRegression()\n",
      "Confusion matrix : \n",
      " [[    0 11403]\n",
      " [    0 14573]]\n",
      "Outcome values : \n",
      " 0 11403 0 14573\n",
      "Classification report : \n",
      "               precision    recall  f1-score   support\n",
      "\n",
      "           1       0.00      0.00      0.00     11403\n",
      "           0       0.56      1.00      0.72     14573\n",
      "\n",
      "    accuracy                           0.56     25976\n",
      "   macro avg       0.28      0.50      0.36     25976\n",
      "weighted avg       0.31      0.56      0.40     25976\n",
      "\n",
      "Accuracy : 56.1 %\n",
      "Precision : nan %\n",
      "Recall : 0.0 %\n",
      "F1 Score : 0.0\n",
      "Specificity or True Negative Rate : 100.0 %\n",
      "Balanced Accuracy : 50.0 %\n",
      "MCC : nan\n",
      "roc_auc_score: 0.5\n"
     ]
    },
    {
     "data": {
      "image/png": "[encoded data removed]",
      "text/plain": [
       "<Figure size 432x288 with 1 Axes>"
      ]
     },
     "metadata": {
      "needs_background": "light"
     },
     "output_type": "display_data"
    },
    {
     "name": "stdout",
     "output_type": "stream",
     "text": [
      "-----------------------------------------------------------------------------------------------------\n",
      "Model Name:  DecisionTreeClassifier()\n",
      "Confusion matrix : \n",
      " [[10385  1018]\n",
      " [  911 13662]]\n",
      "Outcome values : \n",
      " 10385 1018 911 13662\n",
      "Classification report : \n",
      "               precision    recall  f1-score   support\n",
      "\n",
      "           1       0.92      0.91      0.92     11403\n",
      "           0       0.93      0.94      0.93     14573\n",
      "\n",
      "    accuracy                           0.93     25976\n",
      "   macro avg       0.93      0.92      0.92     25976\n",
      "weighted avg       0.93      0.93      0.93     25976\n",
      "\n",
      "Accuracy : 92.6 %\n",
      "Precision : 91.9 %\n",
      "Recall : 91.1 %\n",
      "F1 Score : 0.915\n",
      "Specificity or True Negative Rate : 93.7 %\n",
      "Balanced Accuracy : 92.4 %\n",
      "MCC : 0.849\n",
      "roc_auc_score: 0.924\n"
     ]
    },
    {
     "data": {
      "image/png": "[encoded data removed]",
      "text/plain": [
       "<Figure size 432x288 with 1 Axes>"
      ]
     },
     "metadata": {
      "needs_background": "light"
     },
     "output_type": "display_data"
    },
    {
     "name": "stdout",
     "output_type": "stream",
     "text": [
      "-----------------------------------------------------------------------------------------------------\n",
      "Model Name:  RandomForestClassifier()\n",
      "Confusion matrix : \n",
      " [[10665   738]\n",
      " [  300 14273]]\n",
      "Outcome values : \n",
      " 10665 738 300 14273\n",
      "Classification report : \n",
      "               precision    recall  f1-score   support\n",
      "\n",
      "           1       0.97      0.94      0.95     11403\n",
      "           0       0.95      0.98      0.96     14573\n",
      "\n",
      "    accuracy                           0.96     25976\n",
      "   macro avg       0.96      0.96      0.96     25976\n",
      "weighted avg       0.96      0.96      0.96     25976\n",
      "\n",
      "Accuracy : 96.0 %\n",
      "Precision : 97.3 %\n",
      "Recall : 93.5 %\n",
      "F1 Score : 0.954\n",
      "Specificity or True Negative Rate : 97.9 %\n",
      "Balanced Accuracy : 95.7 %\n",
      "MCC : 0.919\n",
      "roc_auc_score: 0.957\n"
     ]
    },
    {
     "data": {
      "image/png": "[encoded data removed]",
      "text/plain": [
       "<Figure size 432x288 with 1 Axes>"
      ]
     },
     "metadata": {
      "needs_background": "light"
     },
     "output_type": "display_data"
    },
    {
     "name": "stdout",
     "output_type": "stream",
     "text": [
      "-----------------------------------------------------------------------------------------------------\n",
      "Model Name:  ExtraTreesClassifier()\n",
      "Confusion matrix : \n",
      " [[10703   700]\n",
      " [  306 14267]]\n",
      "Outcome values : \n",
      " 10703 700 306 14267\n",
      "Classification report : \n",
      "               precision    recall  f1-score   support\n",
      "\n",
      "           1       0.97      0.94      0.96     11403\n",
      "           0       0.95      0.98      0.97     14573\n",
      "\n",
      "    accuracy                           0.96     25976\n",
      "   macro avg       0.96      0.96      0.96     25976\n",
      "weighted avg       0.96      0.96      0.96     25976\n",
      "\n",
      "Accuracy : 96.1 %\n",
      "Precision : 97.2 %\n",
      "Recall : 93.9 %\n",
      "F1 Score : 0.955\n",
      "Specificity or True Negative Rate : 97.9 %\n",
      "Balanced Accuracy : 95.9 %\n",
      "MCC : 0.922\n",
      "roc_auc_score: 0.959\n"
     ]
    },
    {
     "data": {
      "image/png": "[encoded data removed]",
      "text/plain": [
       "<Figure size 432x288 with 1 Axes>"
      ]
     },
     "metadata": {
      "needs_background": "light"
     },
     "output_type": "display_data"
    },
    {
     "name": "stdout",
     "output_type": "stream",
     "text": [
      "-----------------------------------------------------------------------------------------------------\n",
      "Model Name:  KNeighborsClassifier()\n",
      "Confusion matrix : \n",
      " [[4593 6810]\n",
      " [5564 9009]]\n",
      "Outcome values : \n",
      " 4593 6810 5564 9009\n",
      "Classification report : \n",
      "               precision    recall  f1-score   support\n",
      "\n",
      "           1       0.45      0.40      0.43     11403\n",
      "           0       0.57      0.62      0.59     14573\n",
      "\n",
      "    accuracy                           0.52     25976\n",
      "   macro avg       0.51      0.51      0.51     25976\n",
      "weighted avg       0.52      0.52      0.52     25976\n",
      "\n",
      "Accuracy : 52.4 %\n",
      "Precision : 45.2 %\n",
      "Recall : 40.3 %\n",
      "F1 Score : 0.426\n",
      "Specificity or True Negative Rate : 61.8 %\n",
      "Balanced Accuracy : 51.0 %\n",
      "MCC : 0.021\n",
      "roc_auc_score: 0.51\n"
     ]
    },
    {
     "data": {
      "image/png": "[encoded data removed]",
      "text/plain": [
       "<Figure size 432x288 with 1 Axes>"
      ]
     },
     "metadata": {
      "needs_background": "light"
     },
     "output_type": "display_data"
    },
    {
     "name": "stdout",
     "output_type": "stream",
     "text": [
      "-----------------------------------------------------------------------------------------------------\n",
      "Model Name:  GaussianNB()\n",
      "Confusion matrix : \n",
      " [[ 7178  4225]\n",
      " [  373 14200]]\n",
      "Outcome values : \n",
      " 7178 4225 373 14200\n",
      "Classification report : \n",
      "               precision    recall  f1-score   support\n",
      "\n",
      "           1       0.95      0.63      0.76     11403\n",
      "           0       0.77      0.97      0.86     14573\n",
      "\n",
      "    accuracy                           0.82     25976\n",
      "   macro avg       0.86      0.80      0.81     25976\n",
      "weighted avg       0.85      0.82      0.82     25976\n",
      "\n",
      "Accuracy : 82.3 %\n",
      "Precision : 95.1 %\n",
      "Recall : 62.9 %\n",
      "F1 Score : 0.757\n",
      "Specificity or True Negative Rate : 97.4 %\n",
      "Balanced Accuracy : 80.2 %\n",
      "MCC : 0.66\n",
      "roc_auc_score: 0.802\n"
     ]
    },
    {
     "data": {
      "image/png": "[encoded data removed]",
      "text/plain": [
       "<Figure size 432x288 with 1 Axes>"
      ]
     },
     "metadata": {
      "needs_background": "light"
     },
     "output_type": "display_data"
    },
    {
     "name": "stdout",
     "output_type": "stream",
     "text": [
      "-----------------------------------------------------------------------------------------------------\n",
      "Model Name:  XGBClassifier(base_score=0.5, booster='gbtree', callbacks=None,\n",
      "              colsample_bylevel=1, colsample_bynode=1, colsample_bytree=1,\n",
      "              early_stopping_rounds=None, enable_categorical=False,\n",
      "              eval_metric='mlogloss', gamma=0, gpu_id=-1,\n",
      "              grow_policy='depthwise', importance_type=None,\n",
      "              interaction_constraints='', learning_rate=0.300000012,\n",
      "              max_bin=256, max_cat_to_onehot=4, max_delta_step=0, max_depth=3,\n",
      "              max_leaves=0, min_child_weight=1, missing=nan,\n",
      "              monotone_constraints='()', n_estimators=100, n_jobs=0,\n",
      "              num_parallel_tree=1, predictor='auto', random_state=0,\n",
      "              reg_alpha=0, reg_lambda=1, ...)\n",
      "Confusion matrix : \n",
      " [[10713   690]\n",
      " [  375 14198]]\n",
      "Outcome values : \n",
      " 10713 690 375 14198\n",
      "Classification report : \n",
      "               precision    recall  f1-score   support\n",
      "\n",
      "           1       0.97      0.94      0.95     11403\n",
      "           0       0.95      0.97      0.96     14573\n",
      "\n",
      "    accuracy                           0.96     25976\n",
      "   macro avg       0.96      0.96      0.96     25976\n",
      "weighted avg       0.96      0.96      0.96     25976\n",
      "\n",
      "Accuracy : 95.9 %\n",
      "Precision : 96.6 %\n",
      "Recall : 93.9 %\n",
      "F1 Score : 0.953\n",
      "Specificity or True Negative Rate : 97.4 %\n",
      "Balanced Accuracy : 95.6 %\n",
      "MCC : 0.917\n",
      "roc_auc_score: 0.957\n"
     ]
    },
    {
     "data": {
      "image/png": "[encoded data removed]",
      "text/plain": [
       "<Figure size 432x288 with 1 Axes>"
      ]
     },
     "metadata": {
      "needs_background": "light"
     },
     "output_type": "display_data"
    },
    {
     "name": "stdout",
     "output_type": "stream",
     "text": [
      "-----------------------------------------------------------------------------------------------------\n"
     ]
    }
   ],
   "source": [
    "\n",
    "# Build the Calssification models and compare the results\n",
    "\n",
    "from sklearn.linear_model import LogisticRegression\n",
    "from sklearn.tree import DecisionTreeClassifier\n",
    "from sklearn.ensemble import RandomForestClassifier\n",
    "from sklearn.ensemble import ExtraTreesClassifier\n",
    "from sklearn.neighbors import KNeighborsClassifier\n",
    "from sklearn.naive_bayes import GaussianNB\n",
    "from xgboost import XGBClassifier\n",
    "from sklearn.svm import SVC\n",
    "import lightgbm as lgb\n",
    "\n",
    "# Create objects of classification algorithm with default hyper-parameters\n",
    "\n",
    "ModelLR = LogisticRegression()\n",
    "ModelDC = DecisionTreeClassifier()\n",
    "ModelRF = RandomForestClassifier()\n",
    "ModelET = ExtraTreesClassifier()\n",
    "ModelKNN = KNeighborsClassifier(n_neighbors=5)\n",
    "ModelGNB = GaussianNB()\n",
    "ModelXGB = XGBClassifier(n_estimators=100, max_depth=3, eval_metric='mlogloss')\n",
    "ModelSVM = SVC(kernel='linear',random_state=1)\n",
    "ModelLGB = lgb.LGBMClassifier()\n",
    "\n",
    "# Evalution matrix for all the algorithms\n",
    "\n",
    "#MM = [ModelLR, ModelDC, ModelRF, ModelET, ModelKNN, ModelGNB, ModelSVM, modelXGB, modelLGB]\n",
    "MM = [ModelLR, ModelDC, ModelRF, ModelET, ModelKNN, ModelGNB, ModelXGB]\n",
    "for models in MM:\n",
    "    \n",
    "    # Fit the model\n",
    "    \n",
    "    models.fit(x_train, y_train)\n",
    "    \n",
    "    # Prediction\n",
    "    \n",
    "    y_pred = models.predict(x_test)\n",
    "    y_pred_prob = models.predict_proba(x_test)\n",
    "    \n",
    "    # Print the model name\n",
    "    \n",
    "    print('Model Name: ', models)\n",
    "    \n",
    "    # confusion matrix in sklearn\n",
    "\n",
    "    from sklearn.metrics import confusion_matrix\n",
    "    from sklearn.metrics import classification_report\n",
    "\n",
    "    # actual values\n",
    "\n",
    "    actual = y_test\n",
    "\n",
    "    # predicted values\n",
    "\n",
    "    predicted = y_pred\n",
    "\n",
    "    # confusion matrix\n",
    "\n",
    "    matrix = confusion_matrix(actual,predicted, labels=[1,0],sample_weight=None, normalize=None)\n",
    "    print('Confusion matrix : \\n', matrix)\n",
    "\n",
    "    # outcome values order in sklearn\n",
    "\n",
    "    tp, fn, fp, tn = confusion_matrix(actual,predicted,labels=[1,0]).reshape(-1)\n",
    "    print('Outcome values : \\n', tp, fn, fp, tn)\n",
    "\n",
    "    # classification report for precision, recall f1-score and accuracy\n",
    "\n",
    "    C_Report = classification_report(actual,predicted,labels=[1,0])\n",
    "\n",
    "    print('Classification report : \\n', C_Report)\n",
    "\n",
    "    # calculating the metrics\n",
    "\n",
    "    sensitivity = round(tp/(tp+fn), 3);\n",
    "    specificity = round(tn/(tn+fp), 3);\n",
    "    accuracy = round((tp+tn)/(tp+fp+tn+fn), 3);\n",
    "    balanced_accuracy = round((sensitivity+specificity)/2, 3);\n",
    "    \n",
    "    precision = round(tp/(tp+fp), 3);\n",
    "    f1Score = round((2*tp/(2*tp + fp + fn)), 3);\n",
    "\n",
    "    # Matthews Correlation Coefficient (MCC). Range of values of MCC lie between -1 to +1. \n",
    "    # A model with a score of +1 is a perfect model and -1 is a poor model\n",
    "\n",
    "    from math import sqrt\n",
    "\n",
    "    mx = (tp+fp) * (tp+fn) * (tn+fp) * (tn+fn)\n",
    "    MCC = round(((tp * tn) - (fp * fn)) / sqrt(mx), 3)\n",
    "\n",
    "    print('Accuracy :', round(accuracy*100, 2),'%')\n",
    "    print('Precision :', round(precision*100, 2),'%')\n",
    "    print('Recall :', round(sensitivity*100,2), '%')\n",
    "    print('F1 Score :', f1Score)\n",
    "    print('Specificity or True Negative Rate :', round(specificity*100,2), '%'  )\n",
    "    print('Balanced Accuracy :', round(balanced_accuracy*100, 2),'%')\n",
    "    print('MCC :', MCC)\n",
    "\n",
    "    # Area under ROC curve \n",
    "\n",
    "    from sklearn.metrics import roc_curve, roc_auc_score\n",
    "\n",
    "    print('roc_auc_score:', round(roc_auc_score(y_test, y_pred), 3))\n",
    "    \n",
    "    # ROC Curve\n",
    "    \n",
    "    from sklearn.metrics import roc_auc_score\n",
    "    from sklearn.metrics import roc_curve\n",
    "    logit_roc_auc = roc_auc_score(y_test, y_pred)\n",
    "    fpr, tpr, thresholds = roc_curve(y_test, models.predict_proba(x_test)[:,1])\n",
    "    plt.figure()\n",
    "    # plt.plot(fpr, tpr, label='Logistic Regression (area = %0.2f)' % logit_roc_auc)\n",
    "    plt.plot(fpr, tpr, label= 'Classification Model' % logit_roc_auc)\n",
    "    plt.plot([0, 1], [0, 1],'r--')\n",
    "    plt.xlim([0.0, 1.0])\n",
    "    plt.ylim([0.0, 1.05])\n",
    "    plt.xlabel('False Positive Rate')\n",
    "    plt.ylabel('True Positive Rate')\n",
    "    plt.title('Receiver operating characteristic')\n",
    "    plt.legend(loc=\"lower right\")\n",
    "    plt.savefig('Log_ROC')\n",
    "    plt.show()\n",
    "    print('-----------------------------------------------------------------------------------------------------')\n",
    "    #----------------------------------------------------------------------------------------------------------\n",
    "    \n",
    "    \n",
    "\n",
    "    \n",
    "    new_row = {'Model Name' : models,\n",
    "               'True Positive' : tp, \n",
    "               'False Negative' : fn, \n",
    "               'False Positive' : fp,\n",
    "               'True Negative' : tn,\n",
    "               'Accuracy' : accuracy,\n",
    "               'Precision' : precision,\n",
    "               'Recall' : sensitivity,\n",
    "               'F1 Score' : f1Score,\n",
    "               'Specificity' : specificity,\n",
    "               'MCC':MCC,\n",
    "               'ROC_AUC_Score':roc_auc_score(y_test, y_pred),\n",
    "               'Balanced Accuracy':balanced_accuracy,\n",
    "              }\n",
    "    HTResults = HTResults.append(new_row, ignore_index=True)"
   ]
  },
  {
   "cell_type": "code",
   "execution_count": 60,
   "id": "c7edd8e8",
   "metadata": {},
   "outputs": [
    {
     "data": {
      "text/html": [
       "<div>\n",
       "<style scoped>\n",
       "    .dataframe tbody tr th:only-of-type {\n",
       "        vertical-align: middle;\n",
       "    }\n",
       "\n",
       "    .dataframe tbody tr th {\n",
       "        vertical-align: top;\n",
       "    }\n",
       "\n",
       "    .dataframe thead th {\n",
       "        text-align: right;\n",
       "    }\n",
       "</style>\n",
       "<table border=\"1\" class=\"dataframe\">\n",
       "  <thead>\n",
       "    <tr style=\"text-align: right;\">\n",
       "      <th></th>\n",
       "      <th>Model Name</th>\n",
       "      <th>True Positive</th>\n",
       "      <th>False Negative</th>\n",
       "      <th>False Positive</th>\n",
       "      <th>True Negative</th>\n",
       "      <th>Accuracy</th>\n",
       "      <th>Precision</th>\n",
       "      <th>Recall</th>\n",
       "      <th>F1 Score</th>\n",
       "      <th>Specificity</th>\n",
       "      <th>MCC</th>\n",
       "      <th>ROC_AUC_Score</th>\n",
       "      <th>Balanced Accuracy</th>\n",
       "    </tr>\n",
       "  </thead>\n",
       "  <tbody>\n",
       "    <tr>\n",
       "      <th>0</th>\n",
       "      <td>LogisticRegression()</td>\n",
       "      <td>0</td>\n",
       "      <td>11403</td>\n",
       "      <td>0</td>\n",
       "      <td>14573</td>\n",
       "      <td>0.561</td>\n",
       "      <td>NaN</td>\n",
       "      <td>0.000</td>\n",
       "      <td>0.000</td>\n",
       "      <td>1.000</td>\n",
       "      <td>NaN</td>\n",
       "      <td>0.500000</td>\n",
       "      <td>0.500</td>\n",
       "    </tr>\n",
       "    <tr>\n",
       "      <th>1</th>\n",
       "      <td>DecisionTreeClassifier()</td>\n",
       "      <td>10385</td>\n",
       "      <td>1018</td>\n",
       "      <td>911</td>\n",
       "      <td>13662</td>\n",
       "      <td>0.926</td>\n",
       "      <td>0.919</td>\n",
       "      <td>0.911</td>\n",
       "      <td>0.915</td>\n",
       "      <td>0.937</td>\n",
       "      <td>0.849</td>\n",
       "      <td>0.924106</td>\n",
       "      <td>0.924</td>\n",
       "    </tr>\n",
       "    <tr>\n",
       "      <th>2</th>\n",
       "      <td>(DecisionTreeClassifier(max_features='sqrt', r...</td>\n",
       "      <td>10665</td>\n",
       "      <td>738</td>\n",
       "      <td>300</td>\n",
       "      <td>14273</td>\n",
       "      <td>0.960</td>\n",
       "      <td>0.973</td>\n",
       "      <td>0.935</td>\n",
       "      <td>0.954</td>\n",
       "      <td>0.979</td>\n",
       "      <td>0.919</td>\n",
       "      <td>0.957347</td>\n",
       "      <td>0.957</td>\n",
       "    </tr>\n",
       "    <tr>\n",
       "      <th>3</th>\n",
       "      <td>(ExtraTreeClassifier(random_state=361971133), ...</td>\n",
       "      <td>10703</td>\n",
       "      <td>700</td>\n",
       "      <td>306</td>\n",
       "      <td>14267</td>\n",
       "      <td>0.961</td>\n",
       "      <td>0.972</td>\n",
       "      <td>0.939</td>\n",
       "      <td>0.955</td>\n",
       "      <td>0.979</td>\n",
       "      <td>0.922</td>\n",
       "      <td>0.958807</td>\n",
       "      <td>0.959</td>\n",
       "    </tr>\n",
       "    <tr>\n",
       "      <th>4</th>\n",
       "      <td>KNeighborsClassifier()</td>\n",
       "      <td>4593</td>\n",
       "      <td>6810</td>\n",
       "      <td>5564</td>\n",
       "      <td>9009</td>\n",
       "      <td>0.524</td>\n",
       "      <td>0.452</td>\n",
       "      <td>0.403</td>\n",
       "      <td>0.426</td>\n",
       "      <td>0.618</td>\n",
       "      <td>0.021</td>\n",
       "      <td>0.510493</td>\n",
       "      <td>0.510</td>\n",
       "    </tr>\n",
       "    <tr>\n",
       "      <th>5</th>\n",
       "      <td>GaussianNB()</td>\n",
       "      <td>7178</td>\n",
       "      <td>4225</td>\n",
       "      <td>373</td>\n",
       "      <td>14200</td>\n",
       "      <td>0.823</td>\n",
       "      <td>0.951</td>\n",
       "      <td>0.629</td>\n",
       "      <td>0.757</td>\n",
       "      <td>0.974</td>\n",
       "      <td>0.660</td>\n",
       "      <td>0.801944</td>\n",
       "      <td>0.802</td>\n",
       "    </tr>\n",
       "    <tr>\n",
       "      <th>6</th>\n",
       "      <td>XGBClassifier(base_score=0.5, booster='gbtree'...</td>\n",
       "      <td>10713</td>\n",
       "      <td>690</td>\n",
       "      <td>375</td>\n",
       "      <td>14198</td>\n",
       "      <td>0.959</td>\n",
       "      <td>0.966</td>\n",
       "      <td>0.939</td>\n",
       "      <td>0.953</td>\n",
       "      <td>0.974</td>\n",
       "      <td>0.917</td>\n",
       "      <td>0.956879</td>\n",
       "      <td>0.956</td>\n",
       "    </tr>\n",
       "  </tbody>\n",
       "</table>\n",
       "</div>"
      ],
      "text/plain": [
       "                                          Model Name True Positive  \\\n",
       "0                               LogisticRegression()             0   \n",
       "1                           DecisionTreeClassifier()         10385   \n",
       "2  (DecisionTreeClassifier(max_features='sqrt', r...         10665   \n",
       "3  (ExtraTreeClassifier(random_state=361971133), ...         10703   \n",
       "4                             KNeighborsClassifier()          4593   \n",
       "5                                       GaussianNB()          7178   \n",
       "6  XGBClassifier(base_score=0.5, booster='gbtree'...         10713   \n",
       "\n",
       "  False Negative False Positive True Negative  Accuracy  Precision  Recall  \\\n",
       "0          11403              0         14573     0.561        NaN   0.000   \n",
       "1           1018            911         13662     0.926      0.919   0.911   \n",
       "2            738            300         14273     0.960      0.973   0.935   \n",
       "3            700            306         14267     0.961      0.972   0.939   \n",
       "4           6810           5564          9009     0.524      0.452   0.403   \n",
       "5           4225            373         14200     0.823      0.951   0.629   \n",
       "6            690            375         14198     0.959      0.966   0.939   \n",
       "\n",
       "   F1 Score  Specificity    MCC  ROC_AUC_Score  Balanced Accuracy  \n",
       "0     0.000        1.000    NaN       0.500000              0.500  \n",
       "1     0.915        0.937  0.849       0.924106              0.924  \n",
       "2     0.954        0.979  0.919       0.957347              0.957  \n",
       "3     0.955        0.979  0.922       0.958807              0.959  \n",
       "4     0.426        0.618  0.021       0.510493              0.510  \n",
       "5     0.757        0.974  0.660       0.801944              0.802  \n",
       "6     0.953        0.974  0.917       0.956879              0.956  "
      ]
     },
     "execution_count": 60,
     "metadata": {},
     "output_type": "execute_result"
    }
   ],
   "source": [
    "HTResults"
   ]
  },
  {
   "cell_type": "code",
   "execution_count": 31,
   "id": "1b892c79",
   "metadata": {},
   "outputs": [
    {
     "data": {
      "text/html": [
       "<div>\n",
       "<style scoped>\n",
       "    .dataframe tbody tr th:only-of-type {\n",
       "        vertical-align: middle;\n",
       "    }\n",
       "\n",
       "    .dataframe tbody tr th {\n",
       "        vertical-align: top;\n",
       "    }\n",
       "\n",
       "    .dataframe thead th {\n",
       "        text-align: right;\n",
       "    }\n",
       "</style>\n",
       "<table border=\"1\" class=\"dataframe\">\n",
       "  <thead>\n",
       "    <tr style=\"text-align: right;\">\n",
       "      <th></th>\n",
       "      <th>Model Name</th>\n",
       "      <th>True Positive</th>\n",
       "      <th>False Negative</th>\n",
       "      <th>False Positive</th>\n",
       "      <th>True Negative</th>\n",
       "      <th>Accuracy</th>\n",
       "      <th>Precision</th>\n",
       "      <th>Recall</th>\n",
       "      <th>F1 Score</th>\n",
       "      <th>Specificity</th>\n",
       "      <th>MCC</th>\n",
       "      <th>ROC_AUC_Score</th>\n",
       "      <th>Balanced Accuracy</th>\n",
       "    </tr>\n",
       "  </thead>\n",
       "  <tbody>\n",
       "    <tr>\n",
       "      <th>0</th>\n",
       "      <td>LogisticRegression()</td>\n",
       "      <td>0</td>\n",
       "      <td>11403</td>\n",
       "      <td>0</td>\n",
       "      <td>14573</td>\n",
       "      <td>0.561</td>\n",
       "      <td>NaN</td>\n",
       "      <td>0.000</td>\n",
       "      <td>0.000</td>\n",
       "      <td>1.000</td>\n",
       "      <td>NaN</td>\n",
       "      <td>0.500000</td>\n",
       "      <td>0.500</td>\n",
       "    </tr>\n",
       "    <tr>\n",
       "      <th>1</th>\n",
       "      <td>DecisionTreeClassifier()</td>\n",
       "      <td>10393</td>\n",
       "      <td>1010</td>\n",
       "      <td>921</td>\n",
       "      <td>13652</td>\n",
       "      <td>0.926</td>\n",
       "      <td>0.919</td>\n",
       "      <td>0.911</td>\n",
       "      <td>0.915</td>\n",
       "      <td>0.937</td>\n",
       "      <td>0.849</td>\n",
       "      <td>0.924114</td>\n",
       "      <td>0.924</td>\n",
       "    </tr>\n",
       "    <tr>\n",
       "      <th>2</th>\n",
       "      <td>(DecisionTreeClassifier(max_features='sqrt', r...</td>\n",
       "      <td>10650</td>\n",
       "      <td>753</td>\n",
       "      <td>287</td>\n",
       "      <td>14286</td>\n",
       "      <td>0.960</td>\n",
       "      <td>0.974</td>\n",
       "      <td>0.934</td>\n",
       "      <td>0.953</td>\n",
       "      <td>0.980</td>\n",
       "      <td>0.919</td>\n",
       "      <td>0.957135</td>\n",
       "      <td>0.957</td>\n",
       "    </tr>\n",
       "    <tr>\n",
       "      <th>3</th>\n",
       "      <td>(ExtraTreeClassifier(random_state=2051249999),...</td>\n",
       "      <td>10691</td>\n",
       "      <td>712</td>\n",
       "      <td>286</td>\n",
       "      <td>14287</td>\n",
       "      <td>0.962</td>\n",
       "      <td>0.974</td>\n",
       "      <td>0.938</td>\n",
       "      <td>0.955</td>\n",
       "      <td>0.980</td>\n",
       "      <td>0.922</td>\n",
       "      <td>0.958967</td>\n",
       "      <td>0.959</td>\n",
       "    </tr>\n",
       "    <tr>\n",
       "      <th>4</th>\n",
       "      <td>KNeighborsClassifier()</td>\n",
       "      <td>4593</td>\n",
       "      <td>6810</td>\n",
       "      <td>5564</td>\n",
       "      <td>9009</td>\n",
       "      <td>0.524</td>\n",
       "      <td>0.452</td>\n",
       "      <td>0.403</td>\n",
       "      <td>0.426</td>\n",
       "      <td>0.618</td>\n",
       "      <td>0.021</td>\n",
       "      <td>0.510493</td>\n",
       "      <td>0.510</td>\n",
       "    </tr>\n",
       "    <tr>\n",
       "      <th>5</th>\n",
       "      <td>LogisticRegression()</td>\n",
       "      <td>0</td>\n",
       "      <td>11403</td>\n",
       "      <td>0</td>\n",
       "      <td>14573</td>\n",
       "      <td>0.561</td>\n",
       "      <td>NaN</td>\n",
       "      <td>0.000</td>\n",
       "      <td>0.000</td>\n",
       "      <td>1.000</td>\n",
       "      <td>NaN</td>\n",
       "      <td>0.500000</td>\n",
       "      <td>0.500</td>\n",
       "    </tr>\n",
       "    <tr>\n",
       "      <th>6</th>\n",
       "      <td>DecisionTreeClassifier()</td>\n",
       "      <td>10388</td>\n",
       "      <td>1015</td>\n",
       "      <td>916</td>\n",
       "      <td>13657</td>\n",
       "      <td>0.926</td>\n",
       "      <td>0.919</td>\n",
       "      <td>0.911</td>\n",
       "      <td>0.915</td>\n",
       "      <td>0.937</td>\n",
       "      <td>0.849</td>\n",
       "      <td>0.924066</td>\n",
       "      <td>0.924</td>\n",
       "    </tr>\n",
       "    <tr>\n",
       "      <th>7</th>\n",
       "      <td>(DecisionTreeClassifier(max_features='sqrt', r...</td>\n",
       "      <td>10647</td>\n",
       "      <td>756</td>\n",
       "      <td>282</td>\n",
       "      <td>14291</td>\n",
       "      <td>0.960</td>\n",
       "      <td>0.974</td>\n",
       "      <td>0.934</td>\n",
       "      <td>0.954</td>\n",
       "      <td>0.981</td>\n",
       "      <td>0.919</td>\n",
       "      <td>0.957175</td>\n",
       "      <td>0.958</td>\n",
       "    </tr>\n",
       "    <tr>\n",
       "      <th>8</th>\n",
       "      <td>(ExtraTreeClassifier(random_state=1230667730),...</td>\n",
       "      <td>10685</td>\n",
       "      <td>718</td>\n",
       "      <td>290</td>\n",
       "      <td>14283</td>\n",
       "      <td>0.961</td>\n",
       "      <td>0.974</td>\n",
       "      <td>0.937</td>\n",
       "      <td>0.955</td>\n",
       "      <td>0.980</td>\n",
       "      <td>0.921</td>\n",
       "      <td>0.958567</td>\n",
       "      <td>0.958</td>\n",
       "    </tr>\n",
       "    <tr>\n",
       "      <th>9</th>\n",
       "      <td>KNeighborsClassifier()</td>\n",
       "      <td>4593</td>\n",
       "      <td>6810</td>\n",
       "      <td>5564</td>\n",
       "      <td>9009</td>\n",
       "      <td>0.524</td>\n",
       "      <td>0.452</td>\n",
       "      <td>0.403</td>\n",
       "      <td>0.426</td>\n",
       "      <td>0.618</td>\n",
       "      <td>0.021</td>\n",
       "      <td>0.510493</td>\n",
       "      <td>0.510</td>\n",
       "    </tr>\n",
       "    <tr>\n",
       "      <th>10</th>\n",
       "      <td>GaussianNB()</td>\n",
       "      <td>7178</td>\n",
       "      <td>4225</td>\n",
       "      <td>373</td>\n",
       "      <td>14200</td>\n",
       "      <td>0.823</td>\n",
       "      <td>0.951</td>\n",
       "      <td>0.629</td>\n",
       "      <td>0.757</td>\n",
       "      <td>0.974</td>\n",
       "      <td>0.660</td>\n",
       "      <td>0.801944</td>\n",
       "      <td>0.802</td>\n",
       "    </tr>\n",
       "    <tr>\n",
       "      <th>11</th>\n",
       "      <td>XGBClassifier(base_score=0.5, booster='gbtree'...</td>\n",
       "      <td>10713</td>\n",
       "      <td>690</td>\n",
       "      <td>375</td>\n",
       "      <td>14198</td>\n",
       "      <td>0.959</td>\n",
       "      <td>0.966</td>\n",
       "      <td>0.939</td>\n",
       "      <td>0.953</td>\n",
       "      <td>0.974</td>\n",
       "      <td>0.917</td>\n",
       "      <td>0.956879</td>\n",
       "      <td>0.956</td>\n",
       "    </tr>\n",
       "  </tbody>\n",
       "</table>\n",
       "</div>"
      ],
      "text/plain": [
       "                                           Model Name True Positive  \\\n",
       "0                                LogisticRegression()             0   \n",
       "1                            DecisionTreeClassifier()         10393   \n",
       "2   (DecisionTreeClassifier(max_features='sqrt', r...         10650   \n",
       "3   (ExtraTreeClassifier(random_state=2051249999),...         10691   \n",
       "4                              KNeighborsClassifier()          4593   \n",
       "5                                LogisticRegression()             0   \n",
       "6                            DecisionTreeClassifier()         10388   \n",
       "7   (DecisionTreeClassifier(max_features='sqrt', r...         10647   \n",
       "8   (ExtraTreeClassifier(random_state=1230667730),...         10685   \n",
       "9                              KNeighborsClassifier()          4593   \n",
       "10                                       GaussianNB()          7178   \n",
       "11  XGBClassifier(base_score=0.5, booster='gbtree'...         10713   \n",
       "\n",
       "   False Negative False Positive True Negative  Accuracy  Precision  Recall  \\\n",
       "0           11403              0         14573     0.561        NaN   0.000   \n",
       "1            1010            921         13652     0.926      0.919   0.911   \n",
       "2             753            287         14286     0.960      0.974   0.934   \n",
       "3             712            286         14287     0.962      0.974   0.938   \n",
       "4            6810           5564          9009     0.524      0.452   0.403   \n",
       "5           11403              0         14573     0.561        NaN   0.000   \n",
       "6            1015            916         13657     0.926      0.919   0.911   \n",
       "7             756            282         14291     0.960      0.974   0.934   \n",
       "8             718            290         14283     0.961      0.974   0.937   \n",
       "9            6810           5564          9009     0.524      0.452   0.403   \n",
       "10           4225            373         14200     0.823      0.951   0.629   \n",
       "11            690            375         14198     0.959      0.966   0.939   \n",
       "\n",
       "    F1 Score  Specificity    MCC  ROC_AUC_Score  Balanced Accuracy  \n",
       "0      0.000        1.000    NaN       0.500000              0.500  \n",
       "1      0.915        0.937  0.849       0.924114              0.924  \n",
       "2      0.953        0.980  0.919       0.957135              0.957  \n",
       "3      0.955        0.980  0.922       0.958967              0.959  \n",
       "4      0.426        0.618  0.021       0.510493              0.510  \n",
       "5      0.000        1.000    NaN       0.500000              0.500  \n",
       "6      0.915        0.937  0.849       0.924066              0.924  \n",
       "7      0.954        0.981  0.919       0.957175              0.958  \n",
       "8      0.955        0.980  0.921       0.958567              0.958  \n",
       "9      0.426        0.618  0.021       0.510493              0.510  \n",
       "10     0.757        0.974  0.660       0.801944              0.802  \n",
       "11     0.953        0.974  0.917       0.956879              0.956  "
      ]
     },
     "execution_count": 31,
     "metadata": {},
     "output_type": "execute_result"
    }
   ],
   "source": [
    "HTResults"
   ]
  },
  {
   "cell_type": "code",
   "execution_count": 32,
   "id": "67a9ac60",
   "metadata": {},
   "outputs": [
    {
     "data": {
      "text/html": [
       "<div>\n",
       "<style scoped>\n",
       "    .dataframe tbody tr th:only-of-type {\n",
       "        vertical-align: middle;\n",
       "    }\n",
       "\n",
       "    .dataframe tbody tr th {\n",
       "        vertical-align: top;\n",
       "    }\n",
       "\n",
       "    .dataframe thead th {\n",
       "        text-align: right;\n",
       "    }\n",
       "</style>\n",
       "<table border=\"1\" class=\"dataframe\">\n",
       "  <thead>\n",
       "    <tr style=\"text-align: right;\">\n",
       "      <th></th>\n",
       "      <th>Model Name</th>\n",
       "      <th>True_Positive</th>\n",
       "      <th>False_Negative</th>\n",
       "      <th>False_Positive</th>\n",
       "      <th>True_Negative</th>\n",
       "      <th>Accuracy</th>\n",
       "      <th>Precision</th>\n",
       "      <th>Recall</th>\n",
       "      <th>F1 Score</th>\n",
       "      <th>Specificity</th>\n",
       "      <th>MCC</th>\n",
       "      <th>ROC_AUC_Score</th>\n",
       "      <th>Balanced Accuracy</th>\n",
       "    </tr>\n",
       "  </thead>\n",
       "  <tbody>\n",
       "  </tbody>\n",
       "</table>\n",
       "</div>"
      ],
      "text/plain": [
       "Empty DataFrame\n",
       "Columns: [Model Name, True_Positive, False_Negative, False_Positive, True_Negative, Accuracy, Precision, Recall, F1 Score, Specificity, MCC, ROC_AUC_Score, Balanced Accuracy]\n",
       "Index: []"
      ]
     },
     "execution_count": 32,
     "metadata": {},
     "output_type": "execute_result"
    }
   ],
   "source": [
    "Final_Results = pd.read_csv(r\"C:\\Users\\mouni\\OneDrive\\Desktop\\aiml\\Final Results.csv\", header=0)\n",
    "Final_Results.head()"
   ]
  },
  {
   "cell_type": "code",
   "execution_count": 33,
   "id": "5db634d3",
   "metadata": {},
   "outputs": [
    {
     "data": {
      "text/html": [
       "<div>\n",
       "<style scoped>\n",
       "    .dataframe tbody tr th:only-of-type {\n",
       "        vertical-align: middle;\n",
       "    }\n",
       "\n",
       "    .dataframe tbody tr th {\n",
       "        vertical-align: top;\n",
       "    }\n",
       "\n",
       "    .dataframe thead th {\n",
       "        text-align: right;\n",
       "    }\n",
       "</style>\n",
       "<table border=\"1\" class=\"dataframe\">\n",
       "  <thead>\n",
       "    <tr style=\"text-align: right;\">\n",
       "      <th></th>\n",
       "      <th>Model Name</th>\n",
       "      <th>True_Positive</th>\n",
       "      <th>False_Negative</th>\n",
       "      <th>False_Positive</th>\n",
       "      <th>True_Negative</th>\n",
       "      <th>Accuracy</th>\n",
       "      <th>Precision</th>\n",
       "      <th>Recall</th>\n",
       "      <th>F1 Score</th>\n",
       "      <th>Specificity</th>\n",
       "      <th>MCC</th>\n",
       "      <th>ROC_AUC_Score</th>\n",
       "      <th>Balanced Accuracy</th>\n",
       "    </tr>\n",
       "  </thead>\n",
       "  <tbody>\n",
       "  </tbody>\n",
       "</table>\n",
       "</div>"
      ],
      "text/plain": [
       "Empty DataFrame\n",
       "Columns: [Model Name, True_Positive, False_Negative, False_Positive, True_Negative, Accuracy, Precision, Recall, F1 Score, Specificity, MCC, ROC_AUC_Score, Balanced Accuracy]\n",
       "Index: []"
      ]
     },
     "execution_count": 33,
     "metadata": {},
     "output_type": "execute_result"
    }
   ],
   "source": [
    "Final_Results"
   ]
  },
  {
   "cell_type": "code",
   "execution_count": 34,
   "id": "ef18b67a",
   "metadata": {},
   "outputs": [
    {
     "data": {
      "text/html": [
       "<div>\n",
       "<style scoped>\n",
       "    .dataframe tbody tr th:only-of-type {\n",
       "        vertical-align: middle;\n",
       "    }\n",
       "\n",
       "    .dataframe tbody tr th {\n",
       "        vertical-align: top;\n",
       "    }\n",
       "\n",
       "    .dataframe thead th {\n",
       "        text-align: right;\n",
       "    }\n",
       "</style>\n",
       "<table border=\"1\" class=\"dataframe\">\n",
       "  <thead>\n",
       "    <tr style=\"text-align: right;\">\n",
       "      <th></th>\n",
       "      <th>Unnamed: 0</th>\n",
       "      <th>id</th>\n",
       "      <th>Gender</th>\n",
       "      <th>Customer Type</th>\n",
       "      <th>Age</th>\n",
       "      <th>Type of Travel</th>\n",
       "      <th>Class</th>\n",
       "      <th>Flight Distance</th>\n",
       "      <th>Inflight wifi service</th>\n",
       "      <th>Departure/Arrival time convenient</th>\n",
       "      <th>Ease of Online booking</th>\n",
       "      <th>Gate location</th>\n",
       "      <th>Food and drink</th>\n",
       "      <th>Online boarding</th>\n",
       "      <th>Seat comfort</th>\n",
       "      <th>Inflight entertainment</th>\n",
       "      <th>On-board service</th>\n",
       "      <th>Leg room service</th>\n",
       "      <th>Baggage handling</th>\n",
       "      <th>Checkin service</th>\n",
       "      <th>Inflight service</th>\n",
       "      <th>Cleanliness</th>\n",
       "      <th>Departure Delay in Minutes</th>\n",
       "      <th>Arrival Delay in Minutes</th>\n",
       "    </tr>\n",
       "  </thead>\n",
       "  <tbody>\n",
       "    <tr>\n",
       "      <th>0</th>\n",
       "      <td>0</td>\n",
       "      <td>70172</td>\n",
       "      <td>1</td>\n",
       "      <td>0</td>\n",
       "      <td>0.076923</td>\n",
       "      <td>1</td>\n",
       "      <td>1.0</td>\n",
       "      <td>0.086632</td>\n",
       "      <td>0.6</td>\n",
       "      <td>0.8</td>\n",
       "      <td>0.6</td>\n",
       "      <td>0.2</td>\n",
       "      <td>1.0</td>\n",
       "      <td>0.6</td>\n",
       "      <td>1.0</td>\n",
       "      <td>1.0</td>\n",
       "      <td>0.8</td>\n",
       "      <td>0.6</td>\n",
       "      <td>0.75</td>\n",
       "      <td>0.8</td>\n",
       "      <td>1.0</td>\n",
       "      <td>1.0</td>\n",
       "      <td>0.015704</td>\n",
       "      <td>0.011364</td>\n",
       "    </tr>\n",
       "    <tr>\n",
       "      <th>1</th>\n",
       "      <td>1</td>\n",
       "      <td>5047</td>\n",
       "      <td>1</td>\n",
       "      <td>1</td>\n",
       "      <td>0.230769</td>\n",
       "      <td>0</td>\n",
       "      <td>0.0</td>\n",
       "      <td>0.041195</td>\n",
       "      <td>0.6</td>\n",
       "      <td>0.4</td>\n",
       "      <td>0.6</td>\n",
       "      <td>0.6</td>\n",
       "      <td>0.2</td>\n",
       "      <td>0.6</td>\n",
       "      <td>0.2</td>\n",
       "      <td>0.2</td>\n",
       "      <td>0.2</td>\n",
       "      <td>1.0</td>\n",
       "      <td>0.50</td>\n",
       "      <td>0.2</td>\n",
       "      <td>0.8</td>\n",
       "      <td>0.2</td>\n",
       "      <td>0.000628</td>\n",
       "      <td>0.003788</td>\n",
       "    </tr>\n",
       "    <tr>\n",
       "      <th>2</th>\n",
       "      <td>2</td>\n",
       "      <td>110028</td>\n",
       "      <td>0</td>\n",
       "      <td>0</td>\n",
       "      <td>0.243590</td>\n",
       "      <td>0</td>\n",
       "      <td>0.0</td>\n",
       "      <td>0.224354</td>\n",
       "      <td>0.4</td>\n",
       "      <td>0.4</td>\n",
       "      <td>0.4</td>\n",
       "      <td>0.4</td>\n",
       "      <td>1.0</td>\n",
       "      <td>1.0</td>\n",
       "      <td>1.0</td>\n",
       "      <td>1.0</td>\n",
       "      <td>0.8</td>\n",
       "      <td>0.6</td>\n",
       "      <td>0.75</td>\n",
       "      <td>0.8</td>\n",
       "      <td>0.8</td>\n",
       "      <td>1.0</td>\n",
       "      <td>0.000000</td>\n",
       "      <td>0.000000</td>\n",
       "    </tr>\n",
       "    <tr>\n",
       "      <th>3</th>\n",
       "      <td>3</td>\n",
       "      <td>24026</td>\n",
       "      <td>0</td>\n",
       "      <td>0</td>\n",
       "      <td>0.230769</td>\n",
       "      <td>0</td>\n",
       "      <td>0.0</td>\n",
       "      <td>0.107229</td>\n",
       "      <td>0.4</td>\n",
       "      <td>1.0</td>\n",
       "      <td>1.0</td>\n",
       "      <td>1.0</td>\n",
       "      <td>0.4</td>\n",
       "      <td>0.4</td>\n",
       "      <td>0.4</td>\n",
       "      <td>0.4</td>\n",
       "      <td>0.4</td>\n",
       "      <td>1.0</td>\n",
       "      <td>0.50</td>\n",
       "      <td>0.2</td>\n",
       "      <td>0.8</td>\n",
       "      <td>0.4</td>\n",
       "      <td>0.006910</td>\n",
       "      <td>0.005682</td>\n",
       "    </tr>\n",
       "    <tr>\n",
       "      <th>4</th>\n",
       "      <td>4</td>\n",
       "      <td>119299</td>\n",
       "      <td>1</td>\n",
       "      <td>0</td>\n",
       "      <td>0.692308</td>\n",
       "      <td>0</td>\n",
       "      <td>0.0</td>\n",
       "      <td>0.036955</td>\n",
       "      <td>0.6</td>\n",
       "      <td>0.6</td>\n",
       "      <td>0.6</td>\n",
       "      <td>0.6</td>\n",
       "      <td>0.8</td>\n",
       "      <td>1.0</td>\n",
       "      <td>1.0</td>\n",
       "      <td>0.6</td>\n",
       "      <td>0.6</td>\n",
       "      <td>0.8</td>\n",
       "      <td>0.75</td>\n",
       "      <td>0.6</td>\n",
       "      <td>0.6</td>\n",
       "      <td>0.6</td>\n",
       "      <td>0.000000</td>\n",
       "      <td>0.000000</td>\n",
       "    </tr>\n",
       "    <tr>\n",
       "      <th>...</th>\n",
       "      <td>...</td>\n",
       "      <td>...</td>\n",
       "      <td>...</td>\n",
       "      <td>...</td>\n",
       "      <td>...</td>\n",
       "      <td>...</td>\n",
       "      <td>...</td>\n",
       "      <td>...</td>\n",
       "      <td>...</td>\n",
       "      <td>...</td>\n",
       "      <td>...</td>\n",
       "      <td>...</td>\n",
       "      <td>...</td>\n",
       "      <td>...</td>\n",
       "      <td>...</td>\n",
       "      <td>...</td>\n",
       "      <td>...</td>\n",
       "      <td>...</td>\n",
       "      <td>...</td>\n",
       "      <td>...</td>\n",
       "      <td>...</td>\n",
       "      <td>...</td>\n",
       "      <td>...</td>\n",
       "      <td>...</td>\n",
       "    </tr>\n",
       "    <tr>\n",
       "      <th>103899</th>\n",
       "      <td>103899</td>\n",
       "      <td>94171</td>\n",
       "      <td>0</td>\n",
       "      <td>1</td>\n",
       "      <td>0.205128</td>\n",
       "      <td>0</td>\n",
       "      <td>0.5</td>\n",
       "      <td>0.032512</td>\n",
       "      <td>0.4</td>\n",
       "      <td>0.2</td>\n",
       "      <td>0.4</td>\n",
       "      <td>0.6</td>\n",
       "      <td>0.4</td>\n",
       "      <td>0.4</td>\n",
       "      <td>0.4</td>\n",
       "      <td>0.4</td>\n",
       "      <td>0.6</td>\n",
       "      <td>0.2</td>\n",
       "      <td>0.75</td>\n",
       "      <td>0.4</td>\n",
       "      <td>0.6</td>\n",
       "      <td>0.4</td>\n",
       "      <td>0.001884</td>\n",
       "      <td>0.000000</td>\n",
       "    </tr>\n",
       "    <tr>\n",
       "      <th>103900</th>\n",
       "      <td>103900</td>\n",
       "      <td>73097</td>\n",
       "      <td>1</td>\n",
       "      <td>0</td>\n",
       "      <td>0.538462</td>\n",
       "      <td>0</td>\n",
       "      <td>0.0</td>\n",
       "      <td>0.467690</td>\n",
       "      <td>0.8</td>\n",
       "      <td>0.8</td>\n",
       "      <td>0.8</td>\n",
       "      <td>0.8</td>\n",
       "      <td>0.4</td>\n",
       "      <td>0.8</td>\n",
       "      <td>1.0</td>\n",
       "      <td>1.0</td>\n",
       "      <td>1.0</td>\n",
       "      <td>1.0</td>\n",
       "      <td>1.00</td>\n",
       "      <td>1.0</td>\n",
       "      <td>1.0</td>\n",
       "      <td>0.8</td>\n",
       "      <td>0.000000</td>\n",
       "      <td>0.000000</td>\n",
       "    </tr>\n",
       "    <tr>\n",
       "      <th>103901</th>\n",
       "      <td>103901</td>\n",
       "      <td>68825</td>\n",
       "      <td>1</td>\n",
       "      <td>1</td>\n",
       "      <td>0.294872</td>\n",
       "      <td>0</td>\n",
       "      <td>0.0</td>\n",
       "      <td>0.396607</td>\n",
       "      <td>0.2</td>\n",
       "      <td>0.2</td>\n",
       "      <td>0.2</td>\n",
       "      <td>0.6</td>\n",
       "      <td>0.8</td>\n",
       "      <td>0.2</td>\n",
       "      <td>1.0</td>\n",
       "      <td>0.8</td>\n",
       "      <td>0.6</td>\n",
       "      <td>0.4</td>\n",
       "      <td>0.75</td>\n",
       "      <td>1.0</td>\n",
       "      <td>1.0</td>\n",
       "      <td>0.8</td>\n",
       "      <td>0.004397</td>\n",
       "      <td>0.008838</td>\n",
       "    </tr>\n",
       "    <tr>\n",
       "      <th>103902</th>\n",
       "      <td>103902</td>\n",
       "      <td>54173</td>\n",
       "      <td>0</td>\n",
       "      <td>1</td>\n",
       "      <td>0.192308</td>\n",
       "      <td>0</td>\n",
       "      <td>0.5</td>\n",
       "      <td>0.195679</td>\n",
       "      <td>0.2</td>\n",
       "      <td>0.2</td>\n",
       "      <td>0.2</td>\n",
       "      <td>1.0</td>\n",
       "      <td>0.2</td>\n",
       "      <td>0.2</td>\n",
       "      <td>0.2</td>\n",
       "      <td>0.2</td>\n",
       "      <td>0.8</td>\n",
       "      <td>1.0</td>\n",
       "      <td>0.00</td>\n",
       "      <td>1.0</td>\n",
       "      <td>0.8</td>\n",
       "      <td>0.2</td>\n",
       "      <td>0.000000</td>\n",
       "      <td>0.000000</td>\n",
       "    </tr>\n",
       "    <tr>\n",
       "      <th>103903</th>\n",
       "      <td>103903</td>\n",
       "      <td>62567</td>\n",
       "      <td>1</td>\n",
       "      <td>0</td>\n",
       "      <td>0.256410</td>\n",
       "      <td>0</td>\n",
       "      <td>0.0</td>\n",
       "      <td>0.341680</td>\n",
       "      <td>0.2</td>\n",
       "      <td>0.6</td>\n",
       "      <td>0.6</td>\n",
       "      <td>0.6</td>\n",
       "      <td>0.2</td>\n",
       "      <td>0.2</td>\n",
       "      <td>0.2</td>\n",
       "      <td>0.2</td>\n",
       "      <td>0.2</td>\n",
       "      <td>0.2</td>\n",
       "      <td>0.75</td>\n",
       "      <td>0.8</td>\n",
       "      <td>0.6</td>\n",
       "      <td>0.2</td>\n",
       "      <td>0.000000</td>\n",
       "      <td>0.000000</td>\n",
       "    </tr>\n",
       "  </tbody>\n",
       "</table>\n",
       "<p>103904 rows × 24 columns</p>\n",
       "</div>"
      ],
      "text/plain": [
       "        Unnamed: 0      id  Gender  Customer Type       Age  Type of Travel  \\\n",
       "0                0   70172       1              0  0.076923               1   \n",
       "1                1    5047       1              1  0.230769               0   \n",
       "2                2  110028       0              0  0.243590               0   \n",
       "3                3   24026       0              0  0.230769               0   \n",
       "4                4  119299       1              0  0.692308               0   \n",
       "...            ...     ...     ...            ...       ...             ...   \n",
       "103899      103899   94171       0              1  0.205128               0   \n",
       "103900      103900   73097       1              0  0.538462               0   \n",
       "103901      103901   68825       1              1  0.294872               0   \n",
       "103902      103902   54173       0              1  0.192308               0   \n",
       "103903      103903   62567       1              0  0.256410               0   \n",
       "\n",
       "        Class  Flight Distance  Inflight wifi service  \\\n",
       "0         1.0         0.086632                    0.6   \n",
       "1         0.0         0.041195                    0.6   \n",
       "2         0.0         0.224354                    0.4   \n",
       "3         0.0         0.107229                    0.4   \n",
       "4         0.0         0.036955                    0.6   \n",
       "...       ...              ...                    ...   \n",
       "103899    0.5         0.032512                    0.4   \n",
       "103900    0.0         0.467690                    0.8   \n",
       "103901    0.0         0.396607                    0.2   \n",
       "103902    0.5         0.195679                    0.2   \n",
       "103903    0.0         0.341680                    0.2   \n",
       "\n",
       "        Departure/Arrival time convenient  Ease of Online booking  \\\n",
       "0                                     0.8                     0.6   \n",
       "1                                     0.4                     0.6   \n",
       "2                                     0.4                     0.4   \n",
       "3                                     1.0                     1.0   \n",
       "4                                     0.6                     0.6   \n",
       "...                                   ...                     ...   \n",
       "103899                                0.2                     0.4   \n",
       "103900                                0.8                     0.8   \n",
       "103901                                0.2                     0.2   \n",
       "103902                                0.2                     0.2   \n",
       "103903                                0.6                     0.6   \n",
       "\n",
       "        Gate location  Food and drink  Online boarding  Seat comfort  \\\n",
       "0                 0.2             1.0              0.6           1.0   \n",
       "1                 0.6             0.2              0.6           0.2   \n",
       "2                 0.4             1.0              1.0           1.0   \n",
       "3                 1.0             0.4              0.4           0.4   \n",
       "4                 0.6             0.8              1.0           1.0   \n",
       "...               ...             ...              ...           ...   \n",
       "103899            0.6             0.4              0.4           0.4   \n",
       "103900            0.8             0.4              0.8           1.0   \n",
       "103901            0.6             0.8              0.2           1.0   \n",
       "103902            1.0             0.2              0.2           0.2   \n",
       "103903            0.6             0.2              0.2           0.2   \n",
       "\n",
       "        Inflight entertainment  On-board service  Leg room service  \\\n",
       "0                          1.0               0.8               0.6   \n",
       "1                          0.2               0.2               1.0   \n",
       "2                          1.0               0.8               0.6   \n",
       "3                          0.4               0.4               1.0   \n",
       "4                          0.6               0.6               0.8   \n",
       "...                        ...               ...               ...   \n",
       "103899                     0.4               0.6               0.2   \n",
       "103900                     1.0               1.0               1.0   \n",
       "103901                     0.8               0.6               0.4   \n",
       "103902                     0.2               0.8               1.0   \n",
       "103903                     0.2               0.2               0.2   \n",
       "\n",
       "        Baggage handling  Checkin service  Inflight service  Cleanliness  \\\n",
       "0                   0.75              0.8               1.0          1.0   \n",
       "1                   0.50              0.2               0.8          0.2   \n",
       "2                   0.75              0.8               0.8          1.0   \n",
       "3                   0.50              0.2               0.8          0.4   \n",
       "4                   0.75              0.6               0.6          0.6   \n",
       "...                  ...              ...               ...          ...   \n",
       "103899              0.75              0.4               0.6          0.4   \n",
       "103900              1.00              1.0               1.0          0.8   \n",
       "103901              0.75              1.0               1.0          0.8   \n",
       "103902              0.00              1.0               0.8          0.2   \n",
       "103903              0.75              0.8               0.6          0.2   \n",
       "\n",
       "        Departure Delay in Minutes  Arrival Delay in Minutes  \n",
       "0                         0.015704                  0.011364  \n",
       "1                         0.000628                  0.003788  \n",
       "2                         0.000000                  0.000000  \n",
       "3                         0.006910                  0.005682  \n",
       "4                         0.000000                  0.000000  \n",
       "...                            ...                       ...  \n",
       "103899                    0.001884                  0.000000  \n",
       "103900                    0.000000                  0.000000  \n",
       "103901                    0.004397                  0.008838  \n",
       "103902                    0.000000                  0.000000  \n",
       "103903                    0.000000                  0.000000  \n",
       "\n",
       "[103904 rows x 24 columns]"
      ]
     },
     "execution_count": 34,
     "metadata": {},
     "output_type": "execute_result"
    }
   ],
   "source": [
    "x_train"
   ]
  },
  {
   "cell_type": "code",
   "execution_count": 35,
   "id": "f936a25e",
   "metadata": {},
   "outputs": [
    {
     "data": {
      "text/plain": [
       "0         0\n",
       "1         0\n",
       "2         1\n",
       "3         0\n",
       "4         1\n",
       "         ..\n",
       "103899    0\n",
       "103900    1\n",
       "103901    0\n",
       "103902    0\n",
       "103903    0\n",
       "Name: satisfaction, Length: 103904, dtype: int32"
      ]
     },
     "execution_count": 35,
     "metadata": {},
     "output_type": "execute_result"
    }
   ],
   "source": [
    "\n",
    "y_train"
   ]
  },
  {
   "cell_type": "code",
   "execution_count": 36,
   "id": "b01dce74",
   "metadata": {},
   "outputs": [
    {
     "data": {
      "text/html": [
       "<div>\n",
       "<style scoped>\n",
       "    .dataframe tbody tr th:only-of-type {\n",
       "        vertical-align: middle;\n",
       "    }\n",
       "\n",
       "    .dataframe tbody tr th {\n",
       "        vertical-align: top;\n",
       "    }\n",
       "\n",
       "    .dataframe thead th {\n",
       "        text-align: right;\n",
       "    }\n",
       "</style>\n",
       "<table border=\"1\" class=\"dataframe\">\n",
       "  <thead>\n",
       "    <tr style=\"text-align: right;\">\n",
       "      <th></th>\n",
       "      <th>Unnamed: 0</th>\n",
       "      <th>id</th>\n",
       "      <th>Gender</th>\n",
       "      <th>Customer Type</th>\n",
       "      <th>Age</th>\n",
       "      <th>Type of Travel</th>\n",
       "      <th>Class</th>\n",
       "      <th>Flight Distance</th>\n",
       "      <th>Inflight wifi service</th>\n",
       "      <th>Departure/Arrival time convenient</th>\n",
       "      <th>Ease of Online booking</th>\n",
       "      <th>Gate location</th>\n",
       "      <th>Food and drink</th>\n",
       "      <th>Online boarding</th>\n",
       "      <th>Seat comfort</th>\n",
       "      <th>Inflight entertainment</th>\n",
       "      <th>On-board service</th>\n",
       "      <th>Leg room service</th>\n",
       "      <th>Baggage handling</th>\n",
       "      <th>Checkin service</th>\n",
       "      <th>Inflight service</th>\n",
       "      <th>Cleanliness</th>\n",
       "      <th>Departure Delay in Minutes</th>\n",
       "      <th>Arrival Delay in Minutes</th>\n",
       "    </tr>\n",
       "  </thead>\n",
       "  <tbody>\n",
       "    <tr>\n",
       "      <th>0</th>\n",
       "      <td>0</td>\n",
       "      <td>19556</td>\n",
       "      <td>0</td>\n",
       "      <td>0</td>\n",
       "      <td>0.576923</td>\n",
       "      <td>0</td>\n",
       "      <td>0.5</td>\n",
       "      <td>0.026050</td>\n",
       "      <td>1.0</td>\n",
       "      <td>0.8</td>\n",
       "      <td>0.6</td>\n",
       "      <td>0.75</td>\n",
       "      <td>0.6</td>\n",
       "      <td>0.8</td>\n",
       "      <td>0.50</td>\n",
       "      <td>1.0</td>\n",
       "      <td>1.0</td>\n",
       "      <td>1.0</td>\n",
       "      <td>1.00</td>\n",
       "      <td>0.25</td>\n",
       "      <td>1.0</td>\n",
       "      <td>1.0</td>\n",
       "      <td>0.044326</td>\n",
       "      <td>0.039462</td>\n",
       "    </tr>\n",
       "    <tr>\n",
       "      <th>1</th>\n",
       "      <td>1</td>\n",
       "      <td>90035</td>\n",
       "      <td>0</td>\n",
       "      <td>0</td>\n",
       "      <td>0.371795</td>\n",
       "      <td>0</td>\n",
       "      <td>0.0</td>\n",
       "      <td>0.571890</td>\n",
       "      <td>0.2</td>\n",
       "      <td>0.2</td>\n",
       "      <td>0.6</td>\n",
       "      <td>0.00</td>\n",
       "      <td>1.0</td>\n",
       "      <td>0.8</td>\n",
       "      <td>1.00</td>\n",
       "      <td>0.8</td>\n",
       "      <td>0.8</td>\n",
       "      <td>0.8</td>\n",
       "      <td>0.75</td>\n",
       "      <td>0.50</td>\n",
       "      <td>0.8</td>\n",
       "      <td>1.0</td>\n",
       "      <td>0.000000</td>\n",
       "      <td>0.000000</td>\n",
       "    </tr>\n",
       "    <tr>\n",
       "      <th>2</th>\n",
       "      <td>2</td>\n",
       "      <td>12360</td>\n",
       "      <td>1</td>\n",
       "      <td>1</td>\n",
       "      <td>0.166667</td>\n",
       "      <td>0</td>\n",
       "      <td>0.5</td>\n",
       "      <td>0.032512</td>\n",
       "      <td>0.4</td>\n",
       "      <td>0.0</td>\n",
       "      <td>0.4</td>\n",
       "      <td>0.75</td>\n",
       "      <td>0.4</td>\n",
       "      <td>0.4</td>\n",
       "      <td>0.25</td>\n",
       "      <td>0.4</td>\n",
       "      <td>0.8</td>\n",
       "      <td>0.2</td>\n",
       "      <td>0.50</td>\n",
       "      <td>0.25</td>\n",
       "      <td>0.4</td>\n",
       "      <td>0.4</td>\n",
       "      <td>0.000000</td>\n",
       "      <td>0.000000</td>\n",
       "    </tr>\n",
       "    <tr>\n",
       "      <th>3</th>\n",
       "      <td>3</td>\n",
       "      <td>77959</td>\n",
       "      <td>1</td>\n",
       "      <td>0</td>\n",
       "      <td>0.474359</td>\n",
       "      <td>0</td>\n",
       "      <td>0.0</td>\n",
       "      <td>0.675687</td>\n",
       "      <td>0.0</td>\n",
       "      <td>0.0</td>\n",
       "      <td>0.0</td>\n",
       "      <td>0.25</td>\n",
       "      <td>0.6</td>\n",
       "      <td>0.8</td>\n",
       "      <td>0.75</td>\n",
       "      <td>0.2</td>\n",
       "      <td>0.2</td>\n",
       "      <td>0.2</td>\n",
       "      <td>0.00</td>\n",
       "      <td>0.50</td>\n",
       "      <td>0.2</td>\n",
       "      <td>0.8</td>\n",
       "      <td>0.000000</td>\n",
       "      <td>0.005381</td>\n",
       "    </tr>\n",
       "    <tr>\n",
       "      <th>4</th>\n",
       "      <td>4</td>\n",
       "      <td>36875</td>\n",
       "      <td>0</td>\n",
       "      <td>0</td>\n",
       "      <td>0.538462</td>\n",
       "      <td>0</td>\n",
       "      <td>0.5</td>\n",
       "      <td>0.232431</td>\n",
       "      <td>0.4</td>\n",
       "      <td>0.6</td>\n",
       "      <td>0.8</td>\n",
       "      <td>0.50</td>\n",
       "      <td>0.8</td>\n",
       "      <td>0.2</td>\n",
       "      <td>0.25</td>\n",
       "      <td>0.4</td>\n",
       "      <td>0.4</td>\n",
       "      <td>0.4</td>\n",
       "      <td>0.25</td>\n",
       "      <td>0.75</td>\n",
       "      <td>0.4</td>\n",
       "      <td>0.8</td>\n",
       "      <td>0.000000</td>\n",
       "      <td>0.017937</td>\n",
       "    </tr>\n",
       "    <tr>\n",
       "      <th>...</th>\n",
       "      <td>...</td>\n",
       "      <td>...</td>\n",
       "      <td>...</td>\n",
       "      <td>...</td>\n",
       "      <td>...</td>\n",
       "      <td>...</td>\n",
       "      <td>...</td>\n",
       "      <td>...</td>\n",
       "      <td>...</td>\n",
       "      <td>...</td>\n",
       "      <td>...</td>\n",
       "      <td>...</td>\n",
       "      <td>...</td>\n",
       "      <td>...</td>\n",
       "      <td>...</td>\n",
       "      <td>...</td>\n",
       "      <td>...</td>\n",
       "      <td>...</td>\n",
       "      <td>...</td>\n",
       "      <td>...</td>\n",
       "      <td>...</td>\n",
       "      <td>...</td>\n",
       "      <td>...</td>\n",
       "      <td>...</td>\n",
       "    </tr>\n",
       "    <tr>\n",
       "      <th>25971</th>\n",
       "      <td>25971</td>\n",
       "      <td>78463</td>\n",
       "      <td>1</td>\n",
       "      <td>1</td>\n",
       "      <td>0.346154</td>\n",
       "      <td>0</td>\n",
       "      <td>0.0</td>\n",
       "      <td>0.099960</td>\n",
       "      <td>0.6</td>\n",
       "      <td>0.6</td>\n",
       "      <td>0.6</td>\n",
       "      <td>0.00</td>\n",
       "      <td>0.8</td>\n",
       "      <td>0.6</td>\n",
       "      <td>0.75</td>\n",
       "      <td>0.8</td>\n",
       "      <td>0.6</td>\n",
       "      <td>0.4</td>\n",
       "      <td>0.75</td>\n",
       "      <td>0.75</td>\n",
       "      <td>1.0</td>\n",
       "      <td>0.8</td>\n",
       "      <td>0.000000</td>\n",
       "      <td>0.000000</td>\n",
       "    </tr>\n",
       "    <tr>\n",
       "      <th>25972</th>\n",
       "      <td>25972</td>\n",
       "      <td>71167</td>\n",
       "      <td>1</td>\n",
       "      <td>0</td>\n",
       "      <td>0.205128</td>\n",
       "      <td>0</td>\n",
       "      <td>0.0</td>\n",
       "      <td>0.124192</td>\n",
       "      <td>0.8</td>\n",
       "      <td>0.8</td>\n",
       "      <td>0.8</td>\n",
       "      <td>0.75</td>\n",
       "      <td>0.8</td>\n",
       "      <td>0.8</td>\n",
       "      <td>0.75</td>\n",
       "      <td>0.8</td>\n",
       "      <td>0.8</td>\n",
       "      <td>1.0</td>\n",
       "      <td>1.00</td>\n",
       "      <td>1.00</td>\n",
       "      <td>1.0</td>\n",
       "      <td>0.8</td>\n",
       "      <td>0.000000</td>\n",
       "      <td>0.000000</td>\n",
       "    </tr>\n",
       "    <tr>\n",
       "      <th>25973</th>\n",
       "      <td>25973</td>\n",
       "      <td>37675</td>\n",
       "      <td>0</td>\n",
       "      <td>0</td>\n",
       "      <td>0.128205</td>\n",
       "      <td>1</td>\n",
       "      <td>0.5</td>\n",
       "      <td>0.160945</td>\n",
       "      <td>0.4</td>\n",
       "      <td>1.0</td>\n",
       "      <td>0.2</td>\n",
       "      <td>1.00</td>\n",
       "      <td>0.4</td>\n",
       "      <td>0.2</td>\n",
       "      <td>0.25</td>\n",
       "      <td>0.4</td>\n",
       "      <td>0.8</td>\n",
       "      <td>0.6</td>\n",
       "      <td>0.75</td>\n",
       "      <td>1.00</td>\n",
       "      <td>0.8</td>\n",
       "      <td>0.4</td>\n",
       "      <td>0.000000</td>\n",
       "      <td>0.000000</td>\n",
       "    </tr>\n",
       "    <tr>\n",
       "      <th>25974</th>\n",
       "      <td>25974</td>\n",
       "      <td>90086</td>\n",
       "      <td>1</td>\n",
       "      <td>0</td>\n",
       "      <td>0.089744</td>\n",
       "      <td>0</td>\n",
       "      <td>0.0</td>\n",
       "      <td>0.221325</td>\n",
       "      <td>0.6</td>\n",
       "      <td>0.6</td>\n",
       "      <td>0.6</td>\n",
       "      <td>0.50</td>\n",
       "      <td>0.8</td>\n",
       "      <td>0.8</td>\n",
       "      <td>0.75</td>\n",
       "      <td>0.8</td>\n",
       "      <td>0.6</td>\n",
       "      <td>0.4</td>\n",
       "      <td>1.00</td>\n",
       "      <td>0.75</td>\n",
       "      <td>1.0</td>\n",
       "      <td>0.8</td>\n",
       "      <td>0.000000</td>\n",
       "      <td>0.000000</td>\n",
       "    </tr>\n",
       "    <tr>\n",
       "      <th>25975</th>\n",
       "      <td>25975</td>\n",
       "      <td>34799</td>\n",
       "      <td>0</td>\n",
       "      <td>0</td>\n",
       "      <td>0.448718</td>\n",
       "      <td>1</td>\n",
       "      <td>0.5</td>\n",
       "      <td>0.047052</td>\n",
       "      <td>0.4</td>\n",
       "      <td>1.0</td>\n",
       "      <td>0.4</td>\n",
       "      <td>1.00</td>\n",
       "      <td>0.8</td>\n",
       "      <td>0.4</td>\n",
       "      <td>0.25</td>\n",
       "      <td>0.2</td>\n",
       "      <td>0.2</td>\n",
       "      <td>0.4</td>\n",
       "      <td>0.00</td>\n",
       "      <td>0.00</td>\n",
       "      <td>0.2</td>\n",
       "      <td>0.2</td>\n",
       "      <td>0.000000</td>\n",
       "      <td>0.000000</td>\n",
       "    </tr>\n",
       "  </tbody>\n",
       "</table>\n",
       "<p>25976 rows × 24 columns</p>\n",
       "</div>"
      ],
      "text/plain": [
       "       Unnamed: 0     id  Gender  Customer Type       Age  Type of Travel  \\\n",
       "0               0  19556       0              0  0.576923               0   \n",
       "1               1  90035       0              0  0.371795               0   \n",
       "2               2  12360       1              1  0.166667               0   \n",
       "3               3  77959       1              0  0.474359               0   \n",
       "4               4  36875       0              0  0.538462               0   \n",
       "...           ...    ...     ...            ...       ...             ...   \n",
       "25971       25971  78463       1              1  0.346154               0   \n",
       "25972       25972  71167       1              0  0.205128               0   \n",
       "25973       25973  37675       0              0  0.128205               1   \n",
       "25974       25974  90086       1              0  0.089744               0   \n",
       "25975       25975  34799       0              0  0.448718               1   \n",
       "\n",
       "       Class  Flight Distance  Inflight wifi service  \\\n",
       "0        0.5         0.026050                    1.0   \n",
       "1        0.0         0.571890                    0.2   \n",
       "2        0.5         0.032512                    0.4   \n",
       "3        0.0         0.675687                    0.0   \n",
       "4        0.5         0.232431                    0.4   \n",
       "...      ...              ...                    ...   \n",
       "25971    0.0         0.099960                    0.6   \n",
       "25972    0.0         0.124192                    0.8   \n",
       "25973    0.5         0.160945                    0.4   \n",
       "25974    0.0         0.221325                    0.6   \n",
       "25975    0.5         0.047052                    0.4   \n",
       "\n",
       "       Departure/Arrival time convenient  Ease of Online booking  \\\n",
       "0                                    0.8                     0.6   \n",
       "1                                    0.2                     0.6   \n",
       "2                                    0.0                     0.4   \n",
       "3                                    0.0                     0.0   \n",
       "4                                    0.6                     0.8   \n",
       "...                                  ...                     ...   \n",
       "25971                                0.6                     0.6   \n",
       "25972                                0.8                     0.8   \n",
       "25973                                1.0                     0.2   \n",
       "25974                                0.6                     0.6   \n",
       "25975                                1.0                     0.4   \n",
       "\n",
       "       Gate location  Food and drink  Online boarding  Seat comfort  \\\n",
       "0               0.75             0.6              0.8          0.50   \n",
       "1               0.00             1.0              0.8          1.00   \n",
       "2               0.75             0.4              0.4          0.25   \n",
       "3               0.25             0.6              0.8          0.75   \n",
       "4               0.50             0.8              0.2          0.25   \n",
       "...              ...             ...              ...           ...   \n",
       "25971           0.00             0.8              0.6          0.75   \n",
       "25972           0.75             0.8              0.8          0.75   \n",
       "25973           1.00             0.4              0.2          0.25   \n",
       "25974           0.50             0.8              0.8          0.75   \n",
       "25975           1.00             0.8              0.4          0.25   \n",
       "\n",
       "       Inflight entertainment  On-board service  Leg room service  \\\n",
       "0                         1.0               1.0               1.0   \n",
       "1                         0.8               0.8               0.8   \n",
       "2                         0.4               0.8               0.2   \n",
       "3                         0.2               0.2               0.2   \n",
       "4                         0.4               0.4               0.4   \n",
       "...                       ...               ...               ...   \n",
       "25971                     0.8               0.6               0.4   \n",
       "25972                     0.8               0.8               1.0   \n",
       "25973                     0.4               0.8               0.6   \n",
       "25974                     0.8               0.6               0.4   \n",
       "25975                     0.2               0.2               0.4   \n",
       "\n",
       "       Baggage handling  Checkin service  Inflight service  Cleanliness  \\\n",
       "0                  1.00             0.25               1.0          1.0   \n",
       "1                  0.75             0.50               0.8          1.0   \n",
       "2                  0.50             0.25               0.4          0.4   \n",
       "3                  0.00             0.50               0.2          0.8   \n",
       "4                  0.25             0.75               0.4          0.8   \n",
       "...                 ...              ...               ...          ...   \n",
       "25971              0.75             0.75               1.0          0.8   \n",
       "25972              1.00             1.00               1.0          0.8   \n",
       "25973              0.75             1.00               0.8          0.4   \n",
       "25974              1.00             0.75               1.0          0.8   \n",
       "25975              0.00             0.00               0.2          0.2   \n",
       "\n",
       "       Departure Delay in Minutes  Arrival Delay in Minutes  \n",
       "0                        0.044326                  0.039462  \n",
       "1                        0.000000                  0.000000  \n",
       "2                        0.000000                  0.000000  \n",
       "3                        0.000000                  0.005381  \n",
       "4                        0.000000                  0.017937  \n",
       "...                           ...                       ...  \n",
       "25971                    0.000000                  0.000000  \n",
       "25972                    0.000000                  0.000000  \n",
       "25973                    0.000000                  0.000000  \n",
       "25974                    0.000000                  0.000000  \n",
       "25975                    0.000000                  0.000000  \n",
       "\n",
       "[25976 rows x 24 columns]"
      ]
     },
     "execution_count": 36,
     "metadata": {},
     "output_type": "execute_result"
    }
   ],
   "source": [
    "x_test"
   ]
  },
  {
   "cell_type": "code",
   "execution_count": 37,
   "id": "6cb7425b",
   "metadata": {},
   "outputs": [
    {
     "data": {
      "text/plain": [
       "0        1\n",
       "1        1\n",
       "2        0\n",
       "3        1\n",
       "4        1\n",
       "        ..\n",
       "25971    0\n",
       "25972    1\n",
       "25973    0\n",
       "25974    1\n",
       "25975    0\n",
       "Name: satisfaction, Length: 25976, dtype: int32"
      ]
     },
     "execution_count": 37,
     "metadata": {},
     "output_type": "execute_result"
    }
   ],
   "source": [
    "y_test"
   ]
  },
  {
   "cell_type": "code",
   "execution_count": 38,
   "id": "0c15491d",
   "metadata": {},
   "outputs": [
    {
     "data": {
      "image/png": "[encoded data removed]",
      "text/plain": [
       "<Figure size 432x288 with 1 Axes>"
      ]
     },
     "metadata": {
      "needs_background": "light"
     },
     "output_type": "display_data"
    },
    {
     "data": {
      "image/png": "[encoded data removed]",
      "text/plain": [
       "<Figure size 432x288 with 1 Axes>"
      ]
     },
     "metadata": {
      "needs_background": "light"
     },
     "output_type": "display_data"
    },
    {
     "data": {
      "image/png": "[encoded data removed]",
      "text/plain": [
       "<Figure size 432x288 with 1 Axes>"
      ]
     },
     "metadata": {
      "needs_background": "light"
     },
     "output_type": "display_data"
    },
    {
     "data": {
      "image/png": "[encoded data removed]",
      "text/plain": [
       "<Figure size 432x288 with 1 Axes>"
      ]
     },
     "metadata": {
      "needs_background": "light"
     },
     "output_type": "display_data"
    },
    {
     "data": {
      "image/png": "[encoded data removed]",
      "text/plain": [
       "<Figure size 432x288 with 1 Axes>"
      ]
     },
     "metadata": {
      "needs_background": "light"
     },
     "output_type": "display_data"
    },
    {
     "data": {
      "image/png": "[encoded data removed]",
      "text/plain": [
       "<Figure size 432x288 with 1 Axes>"
      ]
     },
     "metadata": {
      "needs_background": "light"
     },
     "output_type": "display_data"
    },
    {
     "data": {
      "image/png": "[encoded data removed]",
      "text/plain": [
       "<Figure size 432x288 with 1 Axes>"
      ]
     },
     "metadata": {
      "needs_background": "light"
     },
     "output_type": "display_data"
    },
    {
     "data": {
      "image/png": "[encoded data removed]",
      "text/plain": [
       "<Figure size 432x288 with 1 Axes>"
      ]
     },
     "metadata": {
      "needs_background": "light"
     },
     "output_type": "display_data"
    },
    {
     "data": {
      "image/png": "[encoded data removed]",
      "text/plain": [
       "<Figure size 432x288 with 1 Axes>"
      ]
     },
     "metadata": {
      "needs_background": "light"
     },
     "output_type": "display_data"
    },
    {
     "data": {
      "image/png": "[encoded data removed]",
      "text/plain": [
       "<Figure size 432x288 with 1 Axes>"
      ]
     },
     "metadata": {
      "needs_background": "light"
     },
     "output_type": "display_data"
    },
    {
     "data": {
      "image/png": "[encoded data removed]",
      "text/plain": [
       "<Figure size 432x288 with 1 Axes>"
      ]
     },
     "metadata": {
      "needs_background": "light"
     },
     "output_type": "display_data"
    },
    {
     "data": {
      "image/png": "[encoded data removed]",
      "text/plain": [
       "<Figure size 432x288 with 1 Axes>"
      ]
     },
     "metadata": {
      "needs_background": "light"
     },
     "output_type": "display_data"
    },
    {
     "data": {
      "image/png": "[encoded data removed]",
      "text/plain": [
       "<Figure size 432x288 with 1 Axes>"
      ]
     },
     "metadata": {
      "needs_background": "light"
     },
     "output_type": "display_data"
    },
    {
     "data": {
      "image/png": "[encoded data removed]",
      "text/plain": [
       "<Figure size 432x288 with 1 Axes>"
      ]
     },
     "metadata": {
      "needs_background": "light"
     },
     "output_type": "display_data"
    },
    {
     "data": {
      "image/png": "[encoded data removed]",
      "text/plain": [
       "<Figure size 432x288 with 1 Axes>"
      ]
     },
     "metadata": {
      "needs_background": "light"
     },
     "output_type": "display_data"
    },
    {
     "data": {
      "image/png": "[encoded data removed]",
      "text/plain": [
       "<Figure size 432x288 with 1 Axes>"
      ]
     },
     "metadata": {
      "needs_background": "light"
     },
     "output_type": "display_data"
    },
    {
     "data": {
      "image/png": "[encoded data removed]",
      "text/plain": [
       "<Figure size 432x288 with 1 Axes>"
      ]
     },
     "metadata": {
      "needs_background": "light"
     },
     "output_type": "display_data"
    },
    {
     "data": {
      "image/png": "[encoded data removed]",
      "text/plain": [
       "<Figure size 432x288 with 1 Axes>"
      ]
     },
     "metadata": {
      "needs_background": "light"
     },
     "output_type": "display_data"
    },
    {
     "data": {
      "image/png": "[encoded data removed]",
      "text/plain": [
       "<Figure size 432x288 with 1 Axes>"
      ]
     },
     "metadata": {
      "needs_background": "light"
     },
     "output_type": "display_data"
    },
    {
     "data": {
      "image/png": "[encoded data removed]",
      "text/plain": [
       "<Figure size 432x288 with 1 Axes>"
      ]
     },
     "metadata": {
      "needs_background": "light"
     },
     "output_type": "display_data"
    },
    {
     "data": {
      "image/png": "[encoded data removed]",
      "text/plain": [
       "<Figure size 432x288 with 1 Axes>"
      ]
     },
     "metadata": {
      "needs_background": "light"
     },
     "output_type": "display_data"
    },
    {
     "data": {
      "image/png": "[encoded data removed]",
      "text/plain": [
       "<Figure size 432x288 with 1 Axes>"
      ]
     },
     "metadata": {
      "needs_background": "light"
     },
     "output_type": "display_data"
    },
    {
     "data": {
      "image/png": "[encoded data removed]",
      "text/plain": [
       "<Figure size 432x288 with 1 Axes>"
      ]
     },
     "metadata": {
      "needs_background": "light"
     },
     "output_type": "display_data"
    },
    {
     "data": {
      "image/png": "[encoded data removed]",
      "text/plain": [
       "<Figure size 432x288 with 1 Axes>"
      ]
     },
     "metadata": {
      "needs_background": "light"
     },
     "output_type": "display_data"
    },
    {
     "data": {
      "image/png": "[encoded data removed]",
      "text/plain": [
       "<Figure size 432x288 with 1 Axes>"
      ]
     },
     "metadata": {
      "needs_background": "light"
     },
     "output_type": "display_data"
    }
   ],
   "source": [
    "# Display the box plot to show the outliers\n",
    "import seaborn as sns\n",
    "for x in data.columns:\n",
    "    sns.boxplot(x=data[x])\n",
    "    plt.show()"
   ]
  },
  {
   "cell_type": "code",
   "execution_count": 39,
   "id": "0e35d549",
   "metadata": {},
   "outputs": [
    {
     "data": {
      "image/png": "[encoded data removed]",
      "text/plain": [
       "<Figure size 432x288 with 1 Axes>"
      ]
     },
     "metadata": {
      "needs_background": "light"
     },
     "output_type": "display_data"
    },
    {
     "data": {
      "image/png": "[encoded data removed]",
      "text/plain": [
       "<Figure size 432x288 with 1 Axes>"
      ]
     },
     "metadata": {
      "needs_background": "light"
     },
     "output_type": "display_data"
    },
    {
     "data": {
      "image/png": "[encoded data removed]",
      "text/plain": [
       "<Figure size 432x288 with 1 Axes>"
      ]
     },
     "metadata": {
      "needs_background": "light"
     },
     "output_type": "display_data"
    },
    {
     "data": {
      "image/png": "[encoded data removed]",
      "text/plain": [
       "<Figure size 432x288 with 1 Axes>"
      ]
     },
     "metadata": {
      "needs_background": "light"
     },
     "output_type": "display_data"
    },
    {
     "data": {
      "image/png": "[encoded data removed]",
      "text/plain": [
       "<Figure size 432x288 with 1 Axes>"
      ]
     },
     "metadata": {
      "needs_background": "light"
     },
     "output_type": "display_data"
    },
    {
     "data": {
      "image/png": "[encoded data removed]",
      "text/plain": [
       "<Figure size 432x288 with 1 Axes>"
      ]
     },
     "metadata": {
      "needs_background": "light"
     },
     "output_type": "display_data"
    },
    {
     "data": {
      "image/png": "[encoded data removed]",
      "text/plain": [
       "<Figure size 432x288 with 1 Axes>"
      ]
     },
     "metadata": {
      "needs_background": "light"
     },
     "output_type": "display_data"
    },
    {
     "data": {
      "image/png": "[encoded data removed]",
      "text/plain": [
       "<Figure size 432x288 with 1 Axes>"
      ]
     },
     "metadata": {
      "needs_background": "light"
     },
     "output_type": "display_data"
    },
    {
     "data": {
      "image/png": "[encoded data removed]",
      "text/plain": [
       "<Figure size 432x288 with 1 Axes>"
      ]
     },
     "metadata": {
      "needs_background": "light"
     },
     "output_type": "display_data"
    },
    {
     "data": {
      "image/png": "[encoded data removed]",
      "text/plain": [
       "<Figure size 432x288 with 1 Axes>"
      ]
     },
     "metadata": {
      "needs_background": "light"
     },
     "output_type": "display_data"
    },
    {
     "data": {
      "image/png": "[encoded data removed]",
      "text/plain": [
       "<Figure size 432x288 with 1 Axes>"
      ]
     },
     "metadata": {
      "needs_background": "light"
     },
     "output_type": "display_data"
    },
    {
     "data": {
      "image/png": "[encoded data removed]",
      "text/plain": [
       "<Figure size 432x288 with 1 Axes>"
      ]
     },
     "metadata": {
      "needs_background": "light"
     },
     "output_type": "display_data"
    },
    {
     "data": {
      "image/png": "[encoded data removed]",
      "text/plain": [
       "<Figure size 432x288 with 1 Axes>"
      ]
     },
     "metadata": {
      "needs_background": "light"
     },
     "output_type": "display_data"
    },
    {
     "data": {
      "image/png": "[encoded data removed]",
      "text/plain": [
       "<Figure size 432x288 with 1 Axes>"
      ]
     },
     "metadata": {
      "needs_background": "light"
     },
     "output_type": "display_data"
    },
    {
     "data": {
      "image/png": "[encoded data removed]",
      "text/plain": [
       "<Figure size 432x288 with 1 Axes>"
      ]
     },
     "metadata": {
      "needs_background": "light"
     },
     "output_type": "display_data"
    },
    {
     "data": {
      "image/png": "[encoded data removed]",
      "text/plain": [
       "<Figure size 432x288 with 1 Axes>"
      ]
     },
     "metadata": {
      "needs_background": "light"
     },
     "output_type": "display_data"
    },
    {
     "data": {
      "image/png": "[encoded data removed]",
      "text/plain": [
       "<Figure size 432x288 with 1 Axes>"
      ]
     },
     "metadata": {
      "needs_background": "light"
     },
     "output_type": "display_data"
    },
    {
     "data": {
      "image/png": "[encoded data removed]",
      "text/plain": [
       "<Figure size 432x288 with 1 Axes>"
      ]
     },
     "metadata": {
      "needs_background": "light"
     },
     "output_type": "display_data"
    },
    {
     "data": {
      "image/png": "[encoded data removed]",
      "text/plain": [
       "<Figure size 432x288 with 1 Axes>"
      ]
     },
     "metadata": {
      "needs_background": "light"
     },
     "output_type": "display_data"
    },
    {
     "data": {
      "image/png": "[encoded data removed]",
      "text/plain": [
       "<Figure size 432x288 with 1 Axes>"
      ]
     },
     "metadata": {
      "needs_background": "light"
     },
     "output_type": "display_data"
    },
    {
     "data": {
      "image/png": "[encoded data removed]",
      "text/plain": [
       "<Figure size 432x288 with 1 Axes>"
      ]
     },
     "metadata": {
      "needs_background": "light"
     },
     "output_type": "display_data"
    },
    {
     "data": {
      "image/png": "[encoded data removed]",
      "text/plain": [
       "<Figure size 432x288 with 1 Axes>"
      ]
     },
     "metadata": {
      "needs_background": "light"
     },
     "output_type": "display_data"
    },
    {
     "data": {
      "image/png": "[encoded data removed]",
      "text/plain": [
       "<Figure size 432x288 with 1 Axes>"
      ]
     },
     "metadata": {
      "needs_background": "light"
     },
     "output_type": "display_data"
    },
    {
     "data": {
      "image/png": "[encoded data removed]",
      "text/plain": [
       "<Figure size 432x288 with 1 Axes>"
      ]
     },
     "metadata": {
      "needs_background": "light"
     },
     "output_type": "display_data"
    },
    {
     "data": {
      "image/png": "[encoded data removed]",
      "text/plain": [
       "<Figure size 432x288 with 1 Axes>"
      ]
     },
     "metadata": {
      "needs_background": "light"
     },
     "output_type": "display_data"
    }
   ],
   "source": [
    "# Display the box plot to show the outliers\n",
    "import seaborn as sns\n",
    "for x in data_test.columns:\n",
    "    sns.boxplot(x=data_test[x])\n",
    "    plt.show()"
   ]
  },
  {
   "cell_type": "code",
   "execution_count": 40,
   "id": "cf6006a5",
   "metadata": {},
   "outputs": [
    {
     "data": {
      "text/plain": [
       "(103904, 25)"
      ]
     },
     "execution_count": 40,
     "metadata": {},
     "output_type": "execute_result"
    }
   ],
   "source": [
    "#Eliminate the outlier in 'Customer Type' and write data to new file\n",
    "\n",
    "am_UL = round(data['Customer Type'].mean() + 3 * data['Customer Type'].std(),3)\n",
    "am_LL = round(data['Customer Type'].mean() - 3 * data['Customer Type'].std(),3)\n",
    "data_bk= data[(data['Customer Type'] > am_LL) & (data['Customer Type'] < am_UL)]\n",
    "data_bk.shape"
   ]
  },
  {
   "cell_type": "code",
   "execution_count": 41,
   "id": "271f4f1e",
   "metadata": {},
   "outputs": [
    {
     "data": {
      "text/plain": [
       "(103846, 25)"
      ]
     },
     "execution_count": 41,
     "metadata": {},
     "output_type": "execute_result"
    }
   ],
   "source": [
    "#Eliminate the outlier in 'Flight Distance' and write data to new file\n",
    "\n",
    "am_UL = round(data['Flight Distance'].mean() + 3 * data['Flight Distance'].std(),3)\n",
    "am_LL = round(data['Flight Distance'].mean() - 3 * data['Flight Distance'].std(),3)\n",
    "data_bk= data[(data['Flight Distance'] > am_LL) & (data['Flight Distance'] < am_UL)]\n",
    "data_bk.shape"
   ]
  },
  {
   "cell_type": "code",
   "execution_count": 42,
   "id": "25fe78c0",
   "metadata": {},
   "outputs": [
    {
     "data": {
      "text/plain": [
       "(101679, 25)"
      ]
     },
     "execution_count": 42,
     "metadata": {},
     "output_type": "execute_result"
    }
   ],
   "source": [
    "#Eliminate the outlier in 'Arrival Delay in Minutes' and write data to new file\n",
    "\n",
    "am_UL = round(data['Arrival Delay in Minutes'].mean() + 3 * data['Arrival Delay in Minutes'].std(),3)\n",
    "am_LL = round(data['Arrival Delay in Minutes'].mean() - 3 * data['Arrival Delay in Minutes'].std(),3)\n",
    "data_bk= data[(data['Arrival Delay in Minutes'] > am_LL) & (data['Arrival Delay in Minutes'] < am_UL)]\n",
    "data_bk.shape"
   ]
  },
  {
   "cell_type": "code",
   "execution_count": 43,
   "id": "2a01cf45",
   "metadata": {},
   "outputs": [
    {
     "data": {
      "text/plain": [
       "(101682, 25)"
      ]
     },
     "execution_count": 43,
     "metadata": {},
     "output_type": "execute_result"
    }
   ],
   "source": [
    "#Eliminate the outlier in 'Departure Delay in Minutes' and write data to new file\n",
    "\n",
    "am_UL = round(data['Departure Delay in Minutes'].mean() + 3 * data['Departure Delay in Minutes'].std(),3)\n",
    "am_LL = round(data['Departure Delay in Minutes'].mean() - 3 * data['Departure Delay in Minutes'].std(),3)\n",
    "data_bk= data[(data['Departure Delay in Minutes'] > am_LL) & (data['Departure Delay in Minutes'] < am_UL)]\n",
    "data_bk.shape"
   ]
  },
  {
   "cell_type": "code",
   "execution_count": 48,
   "id": "0327e347",
   "metadata": {},
   "outputs": [],
   "source": [
    "#hyper tuning for random forest"
   ]
  },
  {
   "cell_type": "code",
   "execution_count": 49,
   "id": "f2658e54",
   "metadata": {},
   "outputs": [
    {
     "name": "stdout",
     "output_type": "stream",
     "text": [
      "Fitting 3 folds for each of 5 candidates, totalling 15 fits\n"
     ]
    },
    {
     "data": {
      "text/html": [
       "<style>#sk-container-id-1 {color: black;background-color: white;}#sk-container-id-1 pre{padding: 0;}#sk-container-id-1 div.sk-toggleable {background-color: white;}#sk-container-id-1 label.sk-toggleable__label {cursor: pointer;display: block;width: 100%;margin-bottom: 0;padding: 0.3em;box-sizing: border-box;text-align: center;}#sk-container-id-1 label.sk-toggleable__label-arrow:before {content: \"▸\";float: left;margin-right: 0.25em;color: #696969;}#sk-container-id-1 label.sk-toggleable__label-arrow:hover:before {color: black;}#sk-container-id-1 div.sk-estimator:hover label.sk-toggleable__label-arrow:before {color: black;}#sk-container-id-1 div.sk-toggleable__content {max-height: 0;max-width: 0;overflow: hidden;text-align: left;background-color: #f0f8ff;}#sk-container-id-1 div.sk-toggleable__content pre {margin: 0.2em;color: black;border-radius: 0.25em;background-color: #f0f8ff;}#sk-container-id-1 input.sk-toggleable__control:checked~div.sk-toggleable__content {max-height: 200px;max-width: 100%;overflow: auto;}#sk-container-id-1 input.sk-toggleable__control:checked~label.sk-toggleable__label-arrow:before {content: \"▾\";}#sk-container-id-1 div.sk-estimator input.sk-toggleable__control:checked~label.sk-toggleable__label {background-color: #d4ebff;}#sk-container-id-1 div.sk-label input.sk-toggleable__control:checked~label.sk-toggleable__label {background-color: #d4ebff;}#sk-container-id-1 input.sk-hidden--visually {border: 0;clip: rect(1px 1px 1px 1px);clip: rect(1px, 1px, 1px, 1px);height: 1px;margin: -1px;overflow: hidden;padding: 0;position: absolute;width: 1px;}#sk-container-id-1 div.sk-estimator {font-family: monospace;background-color: #f0f8ff;border: 1px dotted black;border-radius: 0.25em;box-sizing: border-box;margin-bottom: 0.5em;}#sk-container-id-1 div.sk-estimator:hover {background-color: #d4ebff;}#sk-container-id-1 div.sk-parallel-item::after {content: \"\";width: 100%;border-bottom: 1px solid gray;flex-grow: 1;}#sk-container-id-1 div.sk-label:hover label.sk-toggleable__label {background-color: #d4ebff;}#sk-container-id-1 div.sk-serial::before {content: \"\";position: absolute;border-left: 1px solid gray;box-sizing: border-box;top: 0;bottom: 0;left: 50%;z-index: 0;}#sk-container-id-1 div.sk-serial {display: flex;flex-direction: column;align-items: center;background-color: white;padding-right: 0.2em;padding-left: 0.2em;position: relative;}#sk-container-id-1 div.sk-item {position: relative;z-index: 1;}#sk-container-id-1 div.sk-parallel {display: flex;align-items: stretch;justify-content: center;background-color: white;position: relative;}#sk-container-id-1 div.sk-item::before, #sk-container-id-1 div.sk-parallel-item::before {content: \"\";position: absolute;border-left: 1px solid gray;box-sizing: border-box;top: 0;bottom: 0;left: 50%;z-index: -1;}#sk-container-id-1 div.sk-parallel-item {display: flex;flex-direction: column;z-index: 1;position: relative;background-color: white;}#sk-container-id-1 div.sk-parallel-item:first-child::after {align-self: flex-end;width: 50%;}#sk-container-id-1 div.sk-parallel-item:last-child::after {align-self: flex-start;width: 50%;}#sk-container-id-1 div.sk-parallel-item:only-child::after {width: 0;}#sk-container-id-1 div.sk-dashed-wrapped {border: 1px dashed gray;margin: 0 0.4em 0.5em 0.4em;box-sizing: border-box;padding-bottom: 0.4em;background-color: white;}#sk-container-id-1 div.sk-label label {font-family: monospace;font-weight: bold;display: inline-block;line-height: 1.2em;}#sk-container-id-1 div.sk-label-container {text-align: center;}#sk-container-id-1 div.sk-container {/* jupyter's `normalize.less` sets `[hidden] { display: none; }` but bootstrap.min.css set `[hidden] { display: none !important; }` so we also need the `!important` here to be able to override the default hidden behavior on the sphinx rendered scikit-learn.org. See: https://github.com/scikit-learn/scikit-learn/issues/21755 */display: inline-block !important;position: relative;}#sk-container-id-1 div.sk-text-repr-fallback {display: none;}</style><div id=\"sk-container-id-1\" class=\"sk-top-container\"><div class=\"sk-text-repr-fallback\"><pre>GridSearchCV(cv=3, estimator=RandomForestClassifier(), n_jobs=-1,\n",
       "             param_grid={&#x27;n_estimators&#x27;: [100, 200, 300, 400, 500]}, verbose=2)</pre><b>In a Jupyter environment, please rerun this cell to show the HTML representation or trust the notebook. <br />On GitHub, the HTML representation is unable to render, please try loading this page with nbviewer.org.</b></div><div class=\"sk-container\" hidden><div class=\"sk-item sk-dashed-wrapped\"><div class=\"sk-label-container\"><div class=\"sk-label sk-toggleable\"><input class=\"sk-toggleable__control sk-hidden--visually\" id=\"sk-estimator-id-1\" type=\"checkbox\" ><label for=\"sk-estimator-id-1\" class=\"sk-toggleable__label sk-toggleable__label-arrow\">GridSearchCV</label><div class=\"sk-toggleable__content\"><pre>GridSearchCV(cv=3, estimator=RandomForestClassifier(), n_jobs=-1,\n",
       "             param_grid={&#x27;n_estimators&#x27;: [100, 200, 300, 400, 500]}, verbose=2)</pre></div></div></div><div class=\"sk-parallel\"><div class=\"sk-parallel-item\"><div class=\"sk-item\"><div class=\"sk-label-container\"><div class=\"sk-label sk-toggleable\"><input class=\"sk-toggleable__control sk-hidden--visually\" id=\"sk-estimator-id-2\" type=\"checkbox\" ><label for=\"sk-estimator-id-2\" class=\"sk-toggleable__label sk-toggleable__label-arrow\">estimator: RandomForestClassifier</label><div class=\"sk-toggleable__content\"><pre>RandomForestClassifier()</pre></div></div></div><div class=\"sk-serial\"><div class=\"sk-item\"><div class=\"sk-estimator sk-toggleable\"><input class=\"sk-toggleable__control sk-hidden--visually\" id=\"sk-estimator-id-3\" type=\"checkbox\" ><label for=\"sk-estimator-id-3\" class=\"sk-toggleable__label sk-toggleable__label-arrow\">RandomForestClassifier</label><div class=\"sk-toggleable__content\"><pre>RandomForestClassifier()</pre></div></div></div></div></div></div></div></div></div></div>"
      ],
      "text/plain": [
       "GridSearchCV(cv=3, estimator=RandomForestClassifier(), n_jobs=-1,\n",
       "             param_grid={'n_estimators': [100, 200, 300, 400, 500]}, verbose=2)"
      ]
     },
     "execution_count": 49,
     "metadata": {},
     "output_type": "execute_result"
    }
   ],
   "source": [
    "# Hyperparameter tuning by GridSearchCV\n",
    "\n",
    "from sklearn.model_selection import GridSearchCV\n",
    "\n",
    "# Create the parameter grid based on the results of random search \n",
    "GS_grid = {\n",
    "    'bootstrap': [True, False],\n",
    "    'max_depth': [10,15],\n",
    "    'max_features': ['auto', 'sqrt', 'log2'],\n",
    "    'min_samples_leaf': [3, 4, 5, 6],\n",
    "    'min_samples_split': [3,4,5,6],\n",
    "    'n_estimators': [100, 200, 300, 400, 500]\n",
    "}\n",
    "\n",
    "# Create object for model\n",
    "\n",
    "ModelRF2 = RandomForestClassifier()\n",
    "\n",
    "# Instantiate the grid search model\n",
    "\n",
    "Grid_search = GridSearchCV(estimator = ModelRF2, param_grid = {'n_estimators': [100, 200, 300, 400, 500]\n",
    "}, cv = 3, n_jobs = -1, verbose = 2)\n",
    "\n",
    "# Fit the grid search to the data\n",
    "\n",
    "Grid_search.fit(x_train,y_train)"
   ]
  },
  {
   "cell_type": "code",
   "execution_count": 50,
   "id": "5a1d9752",
   "metadata": {},
   "outputs": [
    {
     "name": "stdout",
     "output_type": "stream",
     "text": [
      "{'n_estimators': 500}\n"
     ]
    }
   ],
   "source": [
    "# Best parameter from gridseachCV\n",
    "\n",
    "print(Grid_search.best_params_)\n"
   ]
  },
  {
   "cell_type": "code",
   "execution_count": 51,
   "id": "a5058fc5",
   "metadata": {},
   "outputs": [
    {
     "data": {
      "text/html": [
       "<style>#sk-container-id-2 {color: black;background-color: white;}#sk-container-id-2 pre{padding: 0;}#sk-container-id-2 div.sk-toggleable {background-color: white;}#sk-container-id-2 label.sk-toggleable__label {cursor: pointer;display: block;width: 100%;margin-bottom: 0;padding: 0.3em;box-sizing: border-box;text-align: center;}#sk-container-id-2 label.sk-toggleable__label-arrow:before {content: \"▸\";float: left;margin-right: 0.25em;color: #696969;}#sk-container-id-2 label.sk-toggleable__label-arrow:hover:before {color: black;}#sk-container-id-2 div.sk-estimator:hover label.sk-toggleable__label-arrow:before {color: black;}#sk-container-id-2 div.sk-toggleable__content {max-height: 0;max-width: 0;overflow: hidden;text-align: left;background-color: #f0f8ff;}#sk-container-id-2 div.sk-toggleable__content pre {margin: 0.2em;color: black;border-radius: 0.25em;background-color: #f0f8ff;}#sk-container-id-2 input.sk-toggleable__control:checked~div.sk-toggleable__content {max-height: 200px;max-width: 100%;overflow: auto;}#sk-container-id-2 input.sk-toggleable__control:checked~label.sk-toggleable__label-arrow:before {content: \"▾\";}#sk-container-id-2 div.sk-estimator input.sk-toggleable__control:checked~label.sk-toggleable__label {background-color: #d4ebff;}#sk-container-id-2 div.sk-label input.sk-toggleable__control:checked~label.sk-toggleable__label {background-color: #d4ebff;}#sk-container-id-2 input.sk-hidden--visually {border: 0;clip: rect(1px 1px 1px 1px);clip: rect(1px, 1px, 1px, 1px);height: 1px;margin: -1px;overflow: hidden;padding: 0;position: absolute;width: 1px;}#sk-container-id-2 div.sk-estimator {font-family: monospace;background-color: #f0f8ff;border: 1px dotted black;border-radius: 0.25em;box-sizing: border-box;margin-bottom: 0.5em;}#sk-container-id-2 div.sk-estimator:hover {background-color: #d4ebff;}#sk-container-id-2 div.sk-parallel-item::after {content: \"\";width: 100%;border-bottom: 1px solid gray;flex-grow: 1;}#sk-container-id-2 div.sk-label:hover label.sk-toggleable__label {background-color: #d4ebff;}#sk-container-id-2 div.sk-serial::before {content: \"\";position: absolute;border-left: 1px solid gray;box-sizing: border-box;top: 0;bottom: 0;left: 50%;z-index: 0;}#sk-container-id-2 div.sk-serial {display: flex;flex-direction: column;align-items: center;background-color: white;padding-right: 0.2em;padding-left: 0.2em;position: relative;}#sk-container-id-2 div.sk-item {position: relative;z-index: 1;}#sk-container-id-2 div.sk-parallel {display: flex;align-items: stretch;justify-content: center;background-color: white;position: relative;}#sk-container-id-2 div.sk-item::before, #sk-container-id-2 div.sk-parallel-item::before {content: \"\";position: absolute;border-left: 1px solid gray;box-sizing: border-box;top: 0;bottom: 0;left: 50%;z-index: -1;}#sk-container-id-2 div.sk-parallel-item {display: flex;flex-direction: column;z-index: 1;position: relative;background-color: white;}#sk-container-id-2 div.sk-parallel-item:first-child::after {align-self: flex-end;width: 50%;}#sk-container-id-2 div.sk-parallel-item:last-child::after {align-self: flex-start;width: 50%;}#sk-container-id-2 div.sk-parallel-item:only-child::after {width: 0;}#sk-container-id-2 div.sk-dashed-wrapped {border: 1px dashed gray;margin: 0 0.4em 0.5em 0.4em;box-sizing: border-box;padding-bottom: 0.4em;background-color: white;}#sk-container-id-2 div.sk-label label {font-family: monospace;font-weight: bold;display: inline-block;line-height: 1.2em;}#sk-container-id-2 div.sk-label-container {text-align: center;}#sk-container-id-2 div.sk-container {/* jupyter's `normalize.less` sets `[hidden] { display: none; }` but bootstrap.min.css set `[hidden] { display: none !important; }` so we also need the `!important` here to be able to override the default hidden behavior on the sphinx rendered scikit-learn.org. See: https://github.com/scikit-learn/scikit-learn/issues/21755 */display: inline-block !important;position: relative;}#sk-container-id-2 div.sk-text-repr-fallback {display: none;}</style><div id=\"sk-container-id-2\" class=\"sk-top-container\"><div class=\"sk-text-repr-fallback\"><pre>RandomForestClassifier(n_estimators=500)</pre><b>In a Jupyter environment, please rerun this cell to show the HTML representation or trust the notebook. <br />On GitHub, the HTML representation is unable to render, please try loading this page with nbviewer.org.</b></div><div class=\"sk-container\" hidden><div class=\"sk-item\"><div class=\"sk-estimator sk-toggleable\"><input class=\"sk-toggleable__control sk-hidden--visually\" id=\"sk-estimator-id-4\" type=\"checkbox\" checked><label for=\"sk-estimator-id-4\" class=\"sk-toggleable__label sk-toggleable__label-arrow\">RandomForestClassifier</label><div class=\"sk-toggleable__content\"><pre>RandomForestClassifier(n_estimators=500)</pre></div></div></div></div></div>"
      ],
      "text/plain": [
       "RandomForestClassifier(n_estimators=500)"
      ]
     },
     "execution_count": 51,
     "metadata": {},
     "output_type": "execute_result"
    }
   ],
   "source": [
    "# Display of best parameter\n",
    "\n",
    "best_grid = Grid_search.best_estimator_\n",
    "best_grid"
   ]
  },
  {
   "cell_type": "code",
   "execution_count": 52,
   "id": "d8452d75",
   "metadata": {},
   "outputs": [
    {
     "name": "stdout",
     "output_type": "stream",
     "text": [
      "Confusion matrix : \n",
      " [[10680   723]\n",
      " [  295 14278]]\n",
      "Outcome values : \n",
      " 10680 723 295 14278\n",
      "Classification report : \n",
      "               precision    recall  f1-score   support\n",
      "\n",
      "           1       0.97      0.94      0.95     11403\n",
      "           0       0.95      0.98      0.97     14573\n",
      "\n",
      "    accuracy                           0.96     25976\n",
      "   macro avg       0.96      0.96      0.96     25976\n",
      "weighted avg       0.96      0.96      0.96     25976\n",
      "\n",
      "Accuracy : 96.1 %\n",
      "Precision : 97.3 %\n",
      "Recall : 93.7 %\n",
      "F1 Score : 0.955\n",
      "Specificity or True Negative Rate : 98.0 %\n",
      "Balanced Accuracy : 95.8 %\n",
      "MCC : 0.921\n",
      "roc_auc_score: 0.958\n"
     ]
    },
    {
     "data": {
      "image/png": "[encoded data removed]",
      "text/plain": [
       "<Figure size 432x288 with 1 Axes>"
      ]
     },
     "metadata": {
      "needs_background": "light"
     },
     "output_type": "display_data"
    },
    {
     "name": "stdout",
     "output_type": "stream",
     "text": [
      "-----------------------------------------------------------------------------------------------------\n"
     ]
    }
   ],
   "source": [
    "# To build the 'RandomForestClassifier' model with random sampling with Hyperparametr tuning with RandomizedSearchCV\n",
    "\n",
    "from sklearn.ensemble import RandomForestClassifier\n",
    "\n",
    "ModelRF5 = RandomForestClassifier(n_estimators=2000, criterion='gini', max_depth=120, min_samples_split=10,\n",
    "                                  min_samples_leaf=1, min_weight_fraction_leaf=0.0, max_features='auto', \n",
    "                                  max_leaf_nodes=None, min_impurity_decrease=0.0, bootstrap=True, oob_score=False, \n",
    "                                  n_jobs=None, random_state=None, verbose=0, warm_start=False, class_weight=None, \n",
    "                                  ccp_alpha=0.0, max_samples=None)\n",
    "\n",
    "# Train the model with train data \n",
    "\n",
    "ModelRF5.fit(x_train,y_train)\n",
    "\n",
    "# Predict the model with test data set\n",
    "\n",
    "y_pred = ModelRF5.predict(x_test)\n",
    "y_pred_prob = ModelRF5.predict_proba(x_test)\n",
    "\n",
    "# Confusion matrix in sklearn\n",
    "\n",
    "from sklearn.metrics import confusion_matrix\n",
    "from sklearn.metrics import classification_report\n",
    "\n",
    "# actual values\n",
    "\n",
    "actual = y_test\n",
    "\n",
    "# predicted values\n",
    "\n",
    "predicted = y_pred\n",
    "\n",
    "# confusion matrix\n",
    "\n",
    "matrix = confusion_matrix(actual,predicted, labels=[1,0],sample_weight=None, normalize=None)\n",
    "print('Confusion matrix : \\n', matrix)\n",
    "\n",
    "# outcome values order in sklearn\n",
    "\n",
    "tp, fn, fp, tn = confusion_matrix(actual,predicted,labels=[1,0]).reshape(-1)\n",
    "print('Outcome values : \\n', tp, fn, fp, tn)\n",
    "\n",
    "# classification report for precision, recall f1-score and accuracy\n",
    "\n",
    "C_Report = classification_report(actual,predicted,labels=[1,0])\n",
    "\n",
    "print('Classification report : \\n', C_Report)\n",
    "\n",
    "# calculating the metrics\n",
    "\n",
    "sensitivity = round(tp/(tp+fn), 3);\n",
    "specificity = round(tn/(tn+fp), 3);\n",
    "accuracy = round((tp+tn)/(tp+fp+tn+fn), 3);\n",
    "balanced_accuracy = round((sensitivity+specificity)/2, 3);\n",
    "precision = round(tp/(tp+fp), 3);\n",
    "f1Score = round((2*tp/(2*tp + fp + fn)), 3);\n",
    "\n",
    "# Matthews Correlation Coefficient (MCC). Range of values of MCC lie between -1 to +1. \n",
    "# A model with a score of +1 is a perfect model and -1 is a poor model\n",
    "\n",
    "from math import sqrt\n",
    "\n",
    "mx = (tp+fp) * (tp+fn) * (tn+fp) * (tn+fn)\n",
    "MCC = round(((tp * tn) - (fp * fn)) / sqrt(mx), 3)\n",
    "\n",
    "print('Accuracy :', round(accuracy*100, 2),'%')\n",
    "print('Precision :', round(precision*100, 2),'%')\n",
    "print('Recall :', round(sensitivity*100,2), '%')\n",
    "print('F1 Score :', f1Score)\n",
    "print('Specificity or True Negative Rate :', round(specificity*100,2), '%'  )\n",
    "print('Balanced Accuracy :', round(balanced_accuracy*100, 2),'%')\n",
    "print('MCC :', MCC)\n",
    "\n",
    "# Area under ROC curve \n",
    "\n",
    "from sklearn.metrics import roc_curve, roc_auc_score\n",
    "\n",
    "print('roc_auc_score:', round(roc_auc_score(actual, predicted), 3))\n",
    "\n",
    "# ROC Curve\n",
    "\n",
    "from sklearn.metrics import roc_auc_score\n",
    "from sklearn.metrics import roc_curve\n",
    "logit_roc_auc = roc_auc_score(actual, predicted)\n",
    "fpr, tpr, thresholds = roc_curve(actual, ModelRF5.predict_proba(x_test)[:,1])\n",
    "plt.figure()\n",
    "# plt.plot(fpr, tpr, label='Logistic Regression (area = %0.2f)' % logit_roc_auc)\n",
    "plt.plot(fpr, tpr, label= 'Classification Model' % logit_roc_auc)\n",
    "plt.plot([0, 1], [0, 1],'r--')\n",
    "plt.xlim([0.0, 1.0])\n",
    "plt.ylim([0.0, 1.05])\n",
    "plt.xlabel('False Positive Rate')\n",
    "plt.ylabel('True Positive Rate')\n",
    "plt.title('Receiver operating characteristic')\n",
    "plt.legend(loc=\"lower right\")\n",
    "plt.savefig('Log_ROC')\n",
    "plt.show() \n",
    "print('-----------------------------------------------------------------------------------------------------')\n",
    "#----------------------------------------------------------------------------------------------------------\n",
    "new_row = {'Model Name' : ModelRF5,\n",
    "           'True_Positive': tp,\n",
    "           'False_Negative': fn, \n",
    "           'False_Positive': fp, \n",
    "           'True_Negative': tn,\n",
    "           'Accuracy' : accuracy,\n",
    "           'Precision' : precision,\n",
    "           'Recall' : sensitivity,\n",
    "           'F1 Score' : f1Score,\n",
    "           'Specificity' : specificity,\n",
    "           'MCC':MCC,\n",
    "           'ROC_AUC_Score':roc_auc_score(actual, predicted),\n",
    "           'Balanced Accuracy':balanced_accuracy}\n",
    "HTResults = HTResults.append(new_row, ignore_index=True)\n",
    "#----------------------------------------------------------------------------------------------------------"
   ]
  },
  {
   "cell_type": "code",
   "execution_count": 53,
   "id": "9c210abc",
   "metadata": {},
   "outputs": [],
   "source": [
    "#hyper tuning for decision tree"
   ]
  },
  {
   "cell_type": "code",
   "execution_count": 54,
   "id": "6646ffed",
   "metadata": {},
   "outputs": [
    {
     "name": "stdout",
     "output_type": "stream",
     "text": [
      "Fitting 3 folds for each of 50 candidates, totalling 150 fits\n"
     ]
    },
    {
     "data": {
      "text/html": [
       "<style>#sk-container-id-3 {color: black;background-color: white;}#sk-container-id-3 pre{padding: 0;}#sk-container-id-3 div.sk-toggleable {background-color: white;}#sk-container-id-3 label.sk-toggleable__label {cursor: pointer;display: block;width: 100%;margin-bottom: 0;padding: 0.3em;box-sizing: border-box;text-align: center;}#sk-container-id-3 label.sk-toggleable__label-arrow:before {content: \"▸\";float: left;margin-right: 0.25em;color: #696969;}#sk-container-id-3 label.sk-toggleable__label-arrow:hover:before {color: black;}#sk-container-id-3 div.sk-estimator:hover label.sk-toggleable__label-arrow:before {color: black;}#sk-container-id-3 div.sk-toggleable__content {max-height: 0;max-width: 0;overflow: hidden;text-align: left;background-color: #f0f8ff;}#sk-container-id-3 div.sk-toggleable__content pre {margin: 0.2em;color: black;border-radius: 0.25em;background-color: #f0f8ff;}#sk-container-id-3 input.sk-toggleable__control:checked~div.sk-toggleable__content {max-height: 200px;max-width: 100%;overflow: auto;}#sk-container-id-3 input.sk-toggleable__control:checked~label.sk-toggleable__label-arrow:before {content: \"▾\";}#sk-container-id-3 div.sk-estimator input.sk-toggleable__control:checked~label.sk-toggleable__label {background-color: #d4ebff;}#sk-container-id-3 div.sk-label input.sk-toggleable__control:checked~label.sk-toggleable__label {background-color: #d4ebff;}#sk-container-id-3 input.sk-hidden--visually {border: 0;clip: rect(1px 1px 1px 1px);clip: rect(1px, 1px, 1px, 1px);height: 1px;margin: -1px;overflow: hidden;padding: 0;position: absolute;width: 1px;}#sk-container-id-3 div.sk-estimator {font-family: monospace;background-color: #f0f8ff;border: 1px dotted black;border-radius: 0.25em;box-sizing: border-box;margin-bottom: 0.5em;}#sk-container-id-3 div.sk-estimator:hover {background-color: #d4ebff;}#sk-container-id-3 div.sk-parallel-item::after {content: \"\";width: 100%;border-bottom: 1px solid gray;flex-grow: 1;}#sk-container-id-3 div.sk-label:hover label.sk-toggleable__label {background-color: #d4ebff;}#sk-container-id-3 div.sk-serial::before {content: \"\";position: absolute;border-left: 1px solid gray;box-sizing: border-box;top: 0;bottom: 0;left: 50%;z-index: 0;}#sk-container-id-3 div.sk-serial {display: flex;flex-direction: column;align-items: center;background-color: white;padding-right: 0.2em;padding-left: 0.2em;position: relative;}#sk-container-id-3 div.sk-item {position: relative;z-index: 1;}#sk-container-id-3 div.sk-parallel {display: flex;align-items: stretch;justify-content: center;background-color: white;position: relative;}#sk-container-id-3 div.sk-item::before, #sk-container-id-3 div.sk-parallel-item::before {content: \"\";position: absolute;border-left: 1px solid gray;box-sizing: border-box;top: 0;bottom: 0;left: 50%;z-index: -1;}#sk-container-id-3 div.sk-parallel-item {display: flex;flex-direction: column;z-index: 1;position: relative;background-color: white;}#sk-container-id-3 div.sk-parallel-item:first-child::after {align-self: flex-end;width: 50%;}#sk-container-id-3 div.sk-parallel-item:last-child::after {align-self: flex-start;width: 50%;}#sk-container-id-3 div.sk-parallel-item:only-child::after {width: 0;}#sk-container-id-3 div.sk-dashed-wrapped {border: 1px dashed gray;margin: 0 0.4em 0.5em 0.4em;box-sizing: border-box;padding-bottom: 0.4em;background-color: white;}#sk-container-id-3 div.sk-label label {font-family: monospace;font-weight: bold;display: inline-block;line-height: 1.2em;}#sk-container-id-3 div.sk-label-container {text-align: center;}#sk-container-id-3 div.sk-container {/* jupyter's `normalize.less` sets `[hidden] { display: none; }` but bootstrap.min.css set `[hidden] { display: none !important; }` so we also need the `!important` here to be able to override the default hidden behavior on the sphinx rendered scikit-learn.org. See: https://github.com/scikit-learn/scikit-learn/issues/21755 */display: inline-block !important;position: relative;}#sk-container-id-3 div.sk-text-repr-fallback {display: none;}</style><div id=\"sk-container-id-3\" class=\"sk-top-container\"><div class=\"sk-text-repr-fallback\"><pre>GridSearchCV(cv=3, estimator=DecisionTreeClassifier(random_state=42), n_jobs=-1,\n",
       "             param_grid={&#x27;criterion&#x27;: [&#x27;gini&#x27;, &#x27;entropy&#x27;],\n",
       "                         &#x27;max_depth&#x27;: [2, 3, 5, 10, 20],\n",
       "                         &#x27;min_samples_leaf&#x27;: [5, 10, 20, 50, 100]},\n",
       "             verbose=2)</pre><b>In a Jupyter environment, please rerun this cell to show the HTML representation or trust the notebook. <br />On GitHub, the HTML representation is unable to render, please try loading this page with nbviewer.org.</b></div><div class=\"sk-container\" hidden><div class=\"sk-item sk-dashed-wrapped\"><div class=\"sk-label-container\"><div class=\"sk-label sk-toggleable\"><input class=\"sk-toggleable__control sk-hidden--visually\" id=\"sk-estimator-id-5\" type=\"checkbox\" ><label for=\"sk-estimator-id-5\" class=\"sk-toggleable__label sk-toggleable__label-arrow\">GridSearchCV</label><div class=\"sk-toggleable__content\"><pre>GridSearchCV(cv=3, estimator=DecisionTreeClassifier(random_state=42), n_jobs=-1,\n",
       "             param_grid={&#x27;criterion&#x27;: [&#x27;gini&#x27;, &#x27;entropy&#x27;],\n",
       "                         &#x27;max_depth&#x27;: [2, 3, 5, 10, 20],\n",
       "                         &#x27;min_samples_leaf&#x27;: [5, 10, 20, 50, 100]},\n",
       "             verbose=2)</pre></div></div></div><div class=\"sk-parallel\"><div class=\"sk-parallel-item\"><div class=\"sk-item\"><div class=\"sk-label-container\"><div class=\"sk-label sk-toggleable\"><input class=\"sk-toggleable__control sk-hidden--visually\" id=\"sk-estimator-id-6\" type=\"checkbox\" ><label for=\"sk-estimator-id-6\" class=\"sk-toggleable__label sk-toggleable__label-arrow\">estimator: DecisionTreeClassifier</label><div class=\"sk-toggleable__content\"><pre>DecisionTreeClassifier(random_state=42)</pre></div></div></div><div class=\"sk-serial\"><div class=\"sk-item\"><div class=\"sk-estimator sk-toggleable\"><input class=\"sk-toggleable__control sk-hidden--visually\" id=\"sk-estimator-id-7\" type=\"checkbox\" ><label for=\"sk-estimator-id-7\" class=\"sk-toggleable__label sk-toggleable__label-arrow\">DecisionTreeClassifier</label><div class=\"sk-toggleable__content\"><pre>DecisionTreeClassifier(random_state=42)</pre></div></div></div></div></div></div></div></div></div></div>"
      ],
      "text/plain": [
       "GridSearchCV(cv=3, estimator=DecisionTreeClassifier(random_state=42), n_jobs=-1,\n",
       "             param_grid={'criterion': ['gini', 'entropy'],\n",
       "                         'max_depth': [2, 3, 5, 10, 20],\n",
       "                         'min_samples_leaf': [5, 10, 20, 50, 100]},\n",
       "             verbose=2)"
      ]
     },
     "execution_count": 54,
     "metadata": {},
     "output_type": "execute_result"
    }
   ],
   "source": [
    "from sklearn.model_selection import GridSearchCV\n",
    "\n",
    "# Create the parameter grid based on the results of random search \n",
    "\n",
    "Grid_Params = {'max_depth': [2, 3, 5, 10, 20],\n",
    "               'min_samples_leaf': [5, 10, 20, 50, 100],\n",
    "               'criterion': [\"gini\", \"entropy\"]\n",
    "               }\n",
    "\n",
    "ModelDT = DecisionTreeClassifier(random_state=42)\n",
    "\n",
    "# Instantiate the grid search model\n",
    "\n",
    "Grid_search = GridSearchCV(estimator=ModelDT, param_grid=Grid_Params, cv=3, n_jobs=-1, verbose=2)\n",
    "\n",
    "# Fit the grid search to the data\n",
    "\n",
    "Grid_search.fit(x_train,y_train)"
   ]
  },
  {
   "cell_type": "code",
   "execution_count": 55,
   "id": "84ec1092",
   "metadata": {},
   "outputs": [
    {
     "data": {
      "text/plain": [
       "{'criterion': 'entropy', 'max_depth': 20, 'min_samples_leaf': 20}"
      ]
     },
     "execution_count": 55,
     "metadata": {},
     "output_type": "execute_result"
    }
   ],
   "source": [
    "# Best parameter from gridseachCV\n",
    "\n",
    "Grid_search.best_params_"
   ]
  },
  {
   "cell_type": "code",
   "execution_count": 56,
   "id": "0e2abce9",
   "metadata": {},
   "outputs": [
    {
     "data": {
      "text/html": [
       "<style>#sk-container-id-4 {color: black;background-color: white;}#sk-container-id-4 pre{padding: 0;}#sk-container-id-4 div.sk-toggleable {background-color: white;}#sk-container-id-4 label.sk-toggleable__label {cursor: pointer;display: block;width: 100%;margin-bottom: 0;padding: 0.3em;box-sizing: border-box;text-align: center;}#sk-container-id-4 label.sk-toggleable__label-arrow:before {content: \"▸\";float: left;margin-right: 0.25em;color: #696969;}#sk-container-id-4 label.sk-toggleable__label-arrow:hover:before {color: black;}#sk-container-id-4 div.sk-estimator:hover label.sk-toggleable__label-arrow:before {color: black;}#sk-container-id-4 div.sk-toggleable__content {max-height: 0;max-width: 0;overflow: hidden;text-align: left;background-color: #f0f8ff;}#sk-container-id-4 div.sk-toggleable__content pre {margin: 0.2em;color: black;border-radius: 0.25em;background-color: #f0f8ff;}#sk-container-id-4 input.sk-toggleable__control:checked~div.sk-toggleable__content {max-height: 200px;max-width: 100%;overflow: auto;}#sk-container-id-4 input.sk-toggleable__control:checked~label.sk-toggleable__label-arrow:before {content: \"▾\";}#sk-container-id-4 div.sk-estimator input.sk-toggleable__control:checked~label.sk-toggleable__label {background-color: #d4ebff;}#sk-container-id-4 div.sk-label input.sk-toggleable__control:checked~label.sk-toggleable__label {background-color: #d4ebff;}#sk-container-id-4 input.sk-hidden--visually {border: 0;clip: rect(1px 1px 1px 1px);clip: rect(1px, 1px, 1px, 1px);height: 1px;margin: -1px;overflow: hidden;padding: 0;position: absolute;width: 1px;}#sk-container-id-4 div.sk-estimator {font-family: monospace;background-color: #f0f8ff;border: 1px dotted black;border-radius: 0.25em;box-sizing: border-box;margin-bottom: 0.5em;}#sk-container-id-4 div.sk-estimator:hover {background-color: #d4ebff;}#sk-container-id-4 div.sk-parallel-item::after {content: \"\";width: 100%;border-bottom: 1px solid gray;flex-grow: 1;}#sk-container-id-4 div.sk-label:hover label.sk-toggleable__label {background-color: #d4ebff;}#sk-container-id-4 div.sk-serial::before {content: \"\";position: absolute;border-left: 1px solid gray;box-sizing: border-box;top: 0;bottom: 0;left: 50%;z-index: 0;}#sk-container-id-4 div.sk-serial {display: flex;flex-direction: column;align-items: center;background-color: white;padding-right: 0.2em;padding-left: 0.2em;position: relative;}#sk-container-id-4 div.sk-item {position: relative;z-index: 1;}#sk-container-id-4 div.sk-parallel {display: flex;align-items: stretch;justify-content: center;background-color: white;position: relative;}#sk-container-id-4 div.sk-item::before, #sk-container-id-4 div.sk-parallel-item::before {content: \"\";position: absolute;border-left: 1px solid gray;box-sizing: border-box;top: 0;bottom: 0;left: 50%;z-index: -1;}#sk-container-id-4 div.sk-parallel-item {display: flex;flex-direction: column;z-index: 1;position: relative;background-color: white;}#sk-container-id-4 div.sk-parallel-item:first-child::after {align-self: flex-end;width: 50%;}#sk-container-id-4 div.sk-parallel-item:last-child::after {align-self: flex-start;width: 50%;}#sk-container-id-4 div.sk-parallel-item:only-child::after {width: 0;}#sk-container-id-4 div.sk-dashed-wrapped {border: 1px dashed gray;margin: 0 0.4em 0.5em 0.4em;box-sizing: border-box;padding-bottom: 0.4em;background-color: white;}#sk-container-id-4 div.sk-label label {font-family: monospace;font-weight: bold;display: inline-block;line-height: 1.2em;}#sk-container-id-4 div.sk-label-container {text-align: center;}#sk-container-id-4 div.sk-container {/* jupyter's `normalize.less` sets `[hidden] { display: none; }` but bootstrap.min.css set `[hidden] { display: none !important; }` so we also need the `!important` here to be able to override the default hidden behavior on the sphinx rendered scikit-learn.org. See: https://github.com/scikit-learn/scikit-learn/issues/21755 */display: inline-block !important;position: relative;}#sk-container-id-4 div.sk-text-repr-fallback {display: none;}</style><div id=\"sk-container-id-4\" class=\"sk-top-container\"><div class=\"sk-text-repr-fallback\"><pre>DecisionTreeClassifier(criterion=&#x27;entropy&#x27;, max_depth=20, min_samples_leaf=20,\n",
       "                       random_state=42)</pre><b>In a Jupyter environment, please rerun this cell to show the HTML representation or trust the notebook. <br />On GitHub, the HTML representation is unable to render, please try loading this page with nbviewer.org.</b></div><div class=\"sk-container\" hidden><div class=\"sk-item\"><div class=\"sk-estimator sk-toggleable\"><input class=\"sk-toggleable__control sk-hidden--visually\" id=\"sk-estimator-id-8\" type=\"checkbox\" checked><label for=\"sk-estimator-id-8\" class=\"sk-toggleable__label sk-toggleable__label-arrow\">DecisionTreeClassifier</label><div class=\"sk-toggleable__content\"><pre>DecisionTreeClassifier(criterion=&#x27;entropy&#x27;, max_depth=20, min_samples_leaf=20,\n",
       "                       random_state=42)</pre></div></div></div></div></div>"
      ],
      "text/plain": [
       "DecisionTreeClassifier(criterion='entropy', max_depth=20, min_samples_leaf=20,\n",
       "                       random_state=42)"
      ]
     },
     "execution_count": 56,
     "metadata": {},
     "output_type": "execute_result"
    }
   ],
   "source": [
    "# Display of best parameter\n",
    "\n",
    "best_grid = Grid_search.best_estimator_\n",
    "best_grid"
   ]
  },
  {
   "cell_type": "code",
   "execution_count": 57,
   "id": "8476bc79",
   "metadata": {},
   "outputs": [
    {
     "ename": "TypeError",
     "evalue": "__init__() got an unexpected keyword argument 'min_impurity_split'",
     "output_type": "error",
     "traceback": [
      "\u001b[1;31m---------------------------------------------------------------------------\u001b[0m",
      "\u001b[1;31mTypeError\u001b[0m                                 Traceback (most recent call last)",
      "\u001b[1;32m~\\AppData\\Local\\Temp/ipykernel_10948/2020164791.py\u001b[0m in \u001b[0;36m<module>\u001b[1;34m\u001b[0m\n\u001b[0;32m      3\u001b[0m \u001b[1;32mfrom\u001b[0m \u001b[0msklearn\u001b[0m\u001b[1;33m.\u001b[0m\u001b[0mtree\u001b[0m \u001b[1;32mimport\u001b[0m \u001b[0mDecisionTreeClassifier\u001b[0m\u001b[1;33m\u001b[0m\u001b[1;33m\u001b[0m\u001b[0m\n\u001b[0;32m      4\u001b[0m \u001b[1;33m\u001b[0m\u001b[0m\n\u001b[1;32m----> 5\u001b[1;33m ModelDT = DecisionTreeClassifier(ccp_alpha=0.0, class_weight=None, criterion='gini', max_depth=560, max_features='log2',\n\u001b[0m\u001b[0;32m      6\u001b[0m                                  \u001b[0mmax_leaf_nodes\u001b[0m\u001b[1;33m=\u001b[0m\u001b[1;32mNone\u001b[0m\u001b[1;33m,\u001b[0m \u001b[0mmin_impurity_decrease\u001b[0m\u001b[1;33m=\u001b[0m\u001b[1;36m0.0\u001b[0m\u001b[1;33m,\u001b[0m \u001b[0mmin_impurity_split\u001b[0m\u001b[1;33m=\u001b[0m\u001b[1;32mNone\u001b[0m\u001b[1;33m,\u001b[0m\u001b[1;33m\u001b[0m\u001b[1;33m\u001b[0m\u001b[0m\n\u001b[0;32m      7\u001b[0m                                  \u001b[0mmin_samples_leaf\u001b[0m\u001b[1;33m=\u001b[0m\u001b[1;36m6\u001b[0m\u001b[1;33m,\u001b[0m \u001b[0mmin_samples_split\u001b[0m\u001b[1;33m=\u001b[0m\u001b[1;36m5\u001b[0m\u001b[1;33m,\u001b[0m\u001b[0mmin_weight_fraction_leaf\u001b[0m\u001b[1;33m=\u001b[0m\u001b[1;36m0.0\u001b[0m\u001b[1;33m,\u001b[0m\u001b[1;33m\u001b[0m\u001b[1;33m\u001b[0m\u001b[0m\n",
      "\u001b[1;31mTypeError\u001b[0m: __init__() got an unexpected keyword argument 'min_impurity_split'"
     ]
    }
   ],
   "source": [
    "# To build the 'Decision Tree' model Random sampling - Hyperparameter tuning with RandomizedSearchCV  \n",
    "\n",
    "from sklearn.tree import DecisionTreeClassifier \n",
    "\n",
    "ModelDT = DecisionTreeClassifier(ccp_alpha=0.0, class_weight=None, criterion='gini', max_depth=560, max_features='log2',\n",
    "                                 max_leaf_nodes=None, min_impurity_decrease=0.0, min_impurity_split=None,\n",
    "                                 min_samples_leaf=6, min_samples_split=5,min_weight_fraction_leaf=0.0,\n",
    "                                 random_state=None, splitter='best')\n",
    "\n",
    "# Train the model with train data \n",
    "\n",
    "ModelDT.fit(x_train,y_train)\n",
    "\n",
    "# Predict the model with test data set\n",
    "\n",
    "y_pred = ModelDT.predict(x_test)\n",
    "y_pred_prob = ModelDT.predict_proba(x_test)\n",
    "\n",
    "# Confusion matrix in sklearn\n",
    "\n",
    "from sklearn.metrics import confusion_matrix\n",
    "from sklearn.metrics import classification_report\n",
    "\n",
    "# actual values\n",
    "\n",
    "actual = y_test\n",
    "\n",
    "# predicted values\n",
    "\n",
    "predicted = y_pred\n",
    "\n",
    "# confusion matrix\n",
    "\n",
    "matrix = confusion_matrix(actual,predicted, labels=[1,0],sample_weight=None, normalize=None)\n",
    "print('Confusion matrix : \\n', matrix)\n",
    "\n",
    "# outcome values order in sklearn\n",
    "\n",
    "tp, fn, fp, tn = confusion_matrix(actual,predicted,labels=[1,0]).reshape(-1)\n",
    "print('Outcome values : \\n', tp, fn, fp, tn)\n",
    "\n",
    "# classification report for precision, recall f1-score and accuracy\n",
    "\n",
    "C_Report = classification_report(actual,predicted,labels=[1,0])\n",
    "\n",
    "print('Classification report : \\n', C_Report)\n",
    "\n",
    "# calculating the metrics\n",
    "\n",
    "sensitivity = round(tp/(tp+fn), 3);\n",
    "specificity = round(tn/(tn+fp), 3);\n",
    "accuracy = round((tp+tn)/(tp+fp+tn+fn), 3);\n",
    "balanced_accuracy = round((sensitivity+specificity)/2, 3);\n",
    "precision = round(tp/(tp+fp), 3);\n",
    "f1Score = round((2*tp/(2*tp + fp + fn)), 3);\n",
    "\n",
    "# Matthews Correlation Coefficient (MCC). Range of values of MCC lie between -1 to +1. \n",
    "# A model with a score of +1 is a perfect model and -1 is a poor model\n",
    "\n",
    "from math import sqrt\n",
    "\n",
    "mx = (tp+fp) * (tp+fn) * (tn+fp) * (tn+fn)\n",
    "MCC = round(((tp * tn) - (fp * fn)) / sqrt(mx), 3)\n",
    "\n",
    "print('Accuracy :', round(accuracy*100, 2),'%')\n",
    "print('Precision :', round(precision*100, 2),'%')\n",
    "print('Recall :', round(sensitivity*100,2), '%')\n",
    "print('F1 Score :', f1Score)\n",
    "print('Specificity or True Negative Rate :', round(specificity*100,2), '%'  )\n",
    "print('Balanced Accuracy :', round(balanced_accuracy*100, 2),'%')\n",
    "print('MCC :', MCC)\n",
    "\n",
    "# Area under ROC curve \n",
    "\n",
    "from sklearn.metrics import roc_curve, roc_auc_score\n",
    "\n",
    "print('roc_auc_score:', round(roc_auc_score(y_test, y_pred), 3))\n",
    "\n",
    "# ROC Curve\n",
    "\n",
    "from sklearn.metrics import roc_auc_score\n",
    "from sklearn.metrics import roc_curve\n",
    "logit_roc_auc = roc_auc_score(y_test, y_pred)\n",
    "fpr, tpr, thresholds = roc_curve(y_test,ModelDT.predict_proba(x_test)[:,1])\n",
    "plt.figure()\n",
    "# plt.plot(fpr, tpr, label='Logistic Regression (area = %0.2f)' % logit_roc_auc)\n",
    "plt.plot(fpr, tpr, label= 'Classification Model' % logit_roc_auc)\n",
    "plt.plot([0, 1], [0, 1],'r--')\n",
    "plt.xlim([0.0, 1.0])\n",
    "plt.ylim([0.0, 1.05])\n",
    "plt.xlabel('False Positive Rate')\n",
    "plt.ylabel('True Positive Rate')\n",
    "plt.title('Receiver operating characteristic')\n",
    "plt.legend(loc=\"lower right\")\n",
    "plt.savefig('Log_ROC')\n",
    "plt.show() \n",
    "print('-----------------------------------------------------------------------------------------------------')\n",
    "#----------------------------------------------------------------------------------------------------------\n",
    "new_row = {'Model Name' : ModelDT,\n",
    "           'True_Positive': tp,\n",
    "           'False_Negative': fn, \n",
    "           'False_Positive': fp, \n",
    "           'True_Negative': tn,\n",
    "           'Accuracy' : accuracy,\n",
    "           'Precision' : precision,\n",
    "           'Recall' : sensitivity,\n",
    "           'F1 Score' : f1Score,\n",
    "           'Specificity' : specificity,\n",
    "           'MCC':MCC,\n",
    "           'ROC_AUC_Score':roc_auc_score(y_test, y_pred),\n",
    "           'Balanced Accuracy':balanced_accuracy}\n",
    "HTResults = HTResults.append(new_row, ignore_index=True)\n",
    "#----------------------------------------------------------------------------------------------------------"
   ]
  },
  {
   "cell_type": "code",
   "execution_count": null,
   "id": "54407580",
   "metadata": {},
   "outputs": [],
   "source": [
    "#hyper tuning for extra trees"
   ]
  },
  {
   "cell_type": "code",
   "execution_count": null,
   "id": "00f1c997",
   "metadata": {},
   "outputs": [],
   "source": [
    "# Hyperparameter tuning by GridSearchCV\n",
    "\n",
    "from sklearn.model_selection import GridSearchCV\n",
    "\n",
    "# Create the parameter grid based on the results of random search \n",
    "\n",
    "GS_grid = {'bootstrap': [True, False],\n",
    "           'max_depth': [10,15],\n",
    "           'max_features': [2, 3],\n",
    "           'min_samples_leaf': [3, 4, 5,6],\n",
    "           'min_samples_split': [3,4,5,6],\n",
    "           'n_estimators': [1150, 1200, 1250, 1300,1350],\n",
    "           'criterion':['entropy','gini']\n",
    "           }\n",
    "\n",
    "# Create object for model\n",
    "\n",
    "ModelET = ExtraTreesClassifier()\n",
    "\n",
    "# Instantiate the grid search model\n",
    "\n",
    "Grid_search = GridSearchCV(estimator = ModelET, param_grid = GS_grid, cv = 3, n_jobs = -1, verbose = 2)\n",
    "\n",
    "# Fit the grid search to the data\n",
    "\n",
    "Grid_search.fit(x_train,y_train)"
   ]
  },
  {
   "cell_type": "code",
   "execution_count": null,
   "id": "ccff1f5c",
   "metadata": {},
   "outputs": [],
   "source": [
    "# Best parameter from gridseachCV\n",
    "\n",
    "Grid_search.best_params_"
   ]
  }
 ],
 "metadata": {
  "kernelspec": {
   "display_name": "Python 3 (ipykernel)",
   "language": "python",
   "name": "python3"
  },
  "language_info": {
   "codemirror_mode": {
    "name": "ipython",
    "version": 3
   },
   "file_extension": ".py",
   "mimetype": "text/x-python",
   "name": "python",
   "nbconvert_exporter": "python",
   "pygments_lexer": "ipython3",
   "version": "3.9.7"
  }
 },
 "nbformat": 4,
 "nbformat_minor": 5
}
